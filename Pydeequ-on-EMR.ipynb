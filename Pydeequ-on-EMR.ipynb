{
 "cells": [
  {
   "cell_type": "code",
   "execution_count": 2,
   "id": "3755b003-45eb-435b-9b7a-4c4bef7bd6ce",
   "metadata": {
    "execution": {
     "iopub.execute_input": "2023-12-23T11:57:11.778518Z",
     "iopub.status.busy": "2023-12-23T11:57:11.778172Z",
     "iopub.status.idle": "2023-12-23T11:58:35.625650Z",
     "shell.execute_reply": "2023-12-23T11:58:35.624648Z",
     "shell.execute_reply.started": "2023-12-23T11:57:11.778487Z"
    },
    "tags": []
   },
   "outputs": [
    {
     "data": {
      "application/vnd.jupyter.widget-view+json": {
       "model_id": "1d6ad39a7f9a4814aacb258c3d9fac85",
       "version_major": 2,
       "version_minor": 0
      },
      "text/plain": [
       "VBox()"
      ]
     },
     "metadata": {},
     "output_type": "display_data"
    },
    {
     "name": "stdout",
     "output_type": "stream",
     "text": [
      "Starting Spark application\n"
     ]
    },
    {
     "data": {
      "text/html": [
       "<table>\n",
       "<tbody><tr><th>ID</th><th>YARN Application ID</th><th>Kind</th><th>State</th><th>Spark UI</th><th>Driver log</th><th>User</th><th>Current session?</th></tr><tr><td>0</td><td>application_1703332378559_0001</td><td>pyspark</td><td>idle</td><td><a target=\"_blank\" href=\"http://ip-172-31-5-210.ap-south-1.compute.internal:20888/proxy/application_1703332378559_0001/\" class=\"emr-proxy-link j-MZ43D3KQM4BZ application_1703332378559_0001\" emr-resource=\"j-MZ43D3KQM4BZ\n",
       "\" application-id=\"application_1703332378559_0001\">Link</a></td><td><a target=\"_blank\" href=\"http://ip-172-31-0-208.ap-south-1.compute.internal:8042/node/containerlogs/container_1703332378559_0001_01_000001/livy\">Link</a></td><td>None</td><td>✔</td></tr></tbody></table>"
      ],
      "text/plain": [
       "<IPython.core.display.HTML object>"
      ]
     },
     "metadata": {},
     "output_type": "display_data"
    },
    {
     "data": {
      "application/vnd.jupyter.widget-view+json": {
       "model_id": "",
       "version_major": 2,
       "version_minor": 0
      },
      "text/plain": [
       "FloatProgress(value=0.0, bar_style='info', description='Progress:', layout=Layout(height='25px', width='50%'),…"
      ]
     },
     "metadata": {},
     "output_type": "display_data"
    },
    {
     "name": "stdout",
     "output_type": "stream",
     "text": [
      "SparkSession available as 'spark'.\n"
     ]
    },
    {
     "data": {
      "application/vnd.jupyter.widget-view+json": {
       "model_id": "",
       "version_major": 2,
       "version_minor": 0
      },
      "text/plain": [
       "FloatProgress(value=0.0, bar_style='info', description='Progress:', layout=Layout(height='25px', width='50%'),…"
      ]
     },
     "metadata": {},
     "output_type": "display_data"
    }
   ],
   "source": [
    "import os\n",
    "os.environ[\"SPARK_VERSION\"] = '3.3'"
   ]
  },
  {
   "cell_type": "code",
   "execution_count": 4,
   "id": "6b77a110-6279-4dda-9a6a-6d15df7e243f",
   "metadata": {
    "execution": {
     "iopub.execute_input": "2023-12-23T11:59:40.374208Z",
     "iopub.status.busy": "2023-12-23T11:59:40.373836Z",
     "iopub.status.idle": "2023-12-23T11:59:41.157274Z",
     "shell.execute_reply": "2023-12-23T11:59:41.156259Z",
     "shell.execute_reply.started": "2023-12-23T11:59:40.374177Z"
    },
    "tags": []
   },
   "outputs": [
    {
     "data": {
      "application/vnd.jupyter.widget-view+json": {
       "model_id": "7c84060753d34f2a8cb2fdd940d66d3a",
       "version_major": 2,
       "version_minor": 0
      },
      "text/plain": [
       "VBox()"
      ]
     },
     "metadata": {},
     "output_type": "display_data"
    },
    {
     "data": {
      "application/vnd.jupyter.widget-view+json": {
       "model_id": "",
       "version_major": 2,
       "version_minor": 0
      },
      "text/plain": [
       "FloatProgress(value=0.0, bar_style='info', description='Progress:', layout=Layout(height='25px', width='50%'),…"
      ]
     },
     "metadata": {},
     "output_type": "display_data"
    }
   ],
   "source": [
    "import pydeequ"
   ]
  },
  {
   "cell_type": "code",
   "execution_count": 3,
   "id": "ba458cc3-804e-4212-b33f-1c53ca13445d",
   "metadata": {
    "execution": {
     "iopub.execute_input": "2023-12-23T11:59:35.309426Z",
     "iopub.status.busy": "2023-12-23T11:59:35.309070Z",
     "iopub.status.idle": "2023-12-23T11:59:35.359282Z",
     "shell.execute_reply": "2023-12-23T11:59:35.357788Z",
     "shell.execute_reply.started": "2023-12-23T11:59:35.309393Z"
    },
    "tags": []
   },
   "outputs": [
    {
     "data": {
      "text/html": [
       "Current session configs: <tt>{'conf': {'spark.jars.packages': 'com.amazon.deequ:deequ:2.0.3-spark-3.3', 'spark.jars.excludes': 'net.sourceforge.f2j:arpack_combined_all'}, 'proxyUser': 'user_frosty-dev', 'kind': 'pyspark'}</tt><br>"
      ],
      "text/plain": [
       "<IPython.core.display.HTML object>"
      ]
     },
     "metadata": {},
     "output_type": "display_data"
    },
    {
     "data": {
      "text/html": [
       "<table>\n",
       "<tbody><tr><th>ID</th><th>YARN Application ID</th><th>Kind</th><th>State</th><th>Spark UI</th><th>Driver log</th><th>User</th><th>Current session?</th></tr><tr><td>0</td><td>application_1703332378559_0001</td><td>pyspark</td><td>idle</td><td><a target=\"_blank\" href=\"http://ip-172-31-5-210.ap-south-1.compute.internal:20888/proxy/application_1703332378559_0001/\" class=\"emr-proxy-link j-MZ43D3KQM4BZ application_1703332378559_0001\" emr-resource=\"j-MZ43D3KQM4BZ\n",
       "\" application-id=\"application_1703332378559_0001\">Link</a></td><td><a target=\"_blank\" href=\"http://ip-172-31-0-208.ap-south-1.compute.internal:8042/node/containerlogs/container_1703332378559_0001_01_000001/livy\">Link</a></td><td>None</td><td>✔</td></tr></tbody></table>"
      ],
      "text/plain": [
       "<IPython.core.display.HTML object>"
      ]
     },
     "metadata": {},
     "output_type": "display_data"
    }
   ],
   "source": [
    "%%info"
   ]
  },
  {
   "cell_type": "code",
   "execution_count": 1,
   "id": "21fef8fe-d429-46c5-85f4-4c8797f8db42",
   "metadata": {
    "execution": {
     "iopub.execute_input": "2023-12-23T11:57:04.373834Z",
     "iopub.status.busy": "2023-12-23T11:57:04.373314Z",
     "iopub.status.idle": "2023-12-23T11:57:05.052807Z",
     "shell.execute_reply": "2023-12-23T11:57:05.051556Z",
     "shell.execute_reply.started": "2023-12-23T11:57:04.373796Z"
    },
    "tags": []
   },
   "outputs": [
    {
     "data": {
      "text/html": [
       "Current session configs: <tt>{'conf': {'spark.jars.packages': 'com.amazon.deequ:deequ:2.0.3-spark-3.3', 'spark.jars.excludes': 'net.sourceforge.f2j:arpack_combined_all'}, 'proxyUser': 'user_frosty-dev', 'kind': 'pyspark'}</tt><br>"
      ],
      "text/plain": [
       "<IPython.core.display.HTML object>"
      ]
     },
     "metadata": {},
     "output_type": "display_data"
    },
    {
     "data": {
      "text/html": [
       "No active sessions."
      ],
      "text/plain": [
       "<IPython.core.display.HTML object>"
      ]
     },
     "metadata": {},
     "output_type": "display_data"
    }
   ],
   "source": [
    "%%configure -f\n",
    "{\n",
    "    \"conf\": {\n",
    "      \"spark.jars.packages\": \"com.amazon.deequ:deequ:2.0.3-spark-3.3\",\n",
    "      \"spark.jars.excludes\": \"net.sourceforge.f2j:arpack_combined_all\"\n",
    "    }\n",
    "}"
   ]
  },
  {
   "cell_type": "markdown",
   "id": "7794621f",
   "metadata": {},
   "source": [
    "# Reading TLC Yellow Taxi Data from S3"
   ]
  },
  {
   "cell_type": "code",
   "execution_count": 5,
   "id": "0640ba5e-25b0-4248-8d49-519803f16ce2",
   "metadata": {
    "execution": {
     "iopub.execute_input": "2023-12-23T11:59:49.474265Z",
     "iopub.status.busy": "2023-12-23T11:59:49.473859Z",
     "iopub.status.idle": "2023-12-23T12:00:00.820857Z",
     "shell.execute_reply": "2023-12-23T12:00:00.819677Z",
     "shell.execute_reply.started": "2023-12-23T11:59:49.474231Z"
    },
    "tags": []
   },
   "outputs": [
    {
     "data": {
      "application/vnd.jupyter.widget-view+json": {
       "model_id": "011b9eea003642cb805010a2262882d3",
       "version_major": 2,
       "version_minor": 0
      },
      "text/plain": [
       "VBox()"
      ]
     },
     "metadata": {},
     "output_type": "display_data"
    },
    {
     "data": {
      "application/vnd.jupyter.widget-view+json": {
       "model_id": "",
       "version_major": 2,
       "version_minor": 0
      },
      "text/plain": [
       "FloatProgress(value=0.0, bar_style='info', description='Progress:', layout=Layout(height='25px', width='50%'),…"
      ]
     },
     "metadata": {},
     "output_type": "display_data"
    },
    {
     "name": "stdout",
     "output_type": "stream",
     "text": [
      "root\n",
      " |-- VendorID: integer (nullable = true)\n",
      " |-- tpep_pickup_datetime: timestamp (nullable = true)\n",
      " |-- tpep_dropoff_datetime: timestamp (nullable = true)\n",
      " |-- passenger_count: long (nullable = true)\n",
      " |-- trip_distance: double (nullable = true)\n",
      " |-- RatecodeID: long (nullable = true)\n",
      " |-- store_and_fwd_flag: string (nullable = true)\n",
      " |-- PULocationID: integer (nullable = true)\n",
      " |-- DOLocationID: integer (nullable = true)\n",
      " |-- payment_type: long (nullable = true)\n",
      " |-- fare_amount: double (nullable = true)\n",
      " |-- extra: double (nullable = true)\n",
      " |-- mta_tax: double (nullable = true)\n",
      " |-- tip_amount: double (nullable = true)\n",
      " |-- tolls_amount: double (nullable = true)\n",
      " |-- improvement_surcharge: double (nullable = true)\n",
      " |-- total_amount: double (nullable = true)\n",
      " |-- congestion_surcharge: double (nullable = true)\n",
      " |-- Airport_fee: double (nullable = true)"
     ]
    }
   ],
   "source": [
    "bucket_name = \"my_s3_data_bucket\"\n",
    "yellow_df = spark.read.parquet(f\"s3://{bucket_name}/raw_data/nyc_tlc/yellow/oct2023/\")\n",
    "yellow_df.printSchema()"
   ]
  },
  {
   "cell_type": "markdown",
   "id": "1dfd556e-0f73-4730-a215-33b47e057710",
   "metadata": {},
   "source": [
    "## Profiling Data"
   ]
  },
  {
   "cell_type": "code",
   "execution_count": 6,
   "id": "abe3f0eb-b6c5-4057-8bab-4baf59255982",
   "metadata": {
    "execution": {
     "iopub.execute_input": "2023-12-23T12:00:40.646701Z",
     "iopub.status.busy": "2023-12-23T12:00:40.646316Z",
     "iopub.status.idle": "2023-12-23T12:01:12.098500Z",
     "shell.execute_reply": "2023-12-23T12:01:12.097274Z",
     "shell.execute_reply.started": "2023-12-23T12:00:40.646670Z"
    },
    "tags": []
   },
   "outputs": [
    {
     "data": {
      "application/vnd.jupyter.widget-view+json": {
       "model_id": "826752fe19b44f48899bf7bb46dd7b28",
       "version_major": 2,
       "version_minor": 0
      },
      "text/plain": [
       "VBox()"
      ]
     },
     "metadata": {},
     "output_type": "display_data"
    },
    {
     "data": {
      "application/vnd.jupyter.widget-view+json": {
       "model_id": "",
       "version_major": 2,
       "version_minor": 0
      },
      "text/plain": [
       "FloatProgress(value=0.0, bar_style='info', description='Progress:', layout=Layout(height='25px', width='50%'),…"
      ]
     },
     "metadata": {},
     "output_type": "display_data"
    },
    {
     "name": "stdout",
     "output_type": "stream",
     "text": [
      "DOLocationID\n",
      "NumericProfiles for column: DOLocationID: {\n",
      "    \"completeness\": 1.0,\n",
      "    \"approximateNumDistinctValues\": 262,\n",
      "    \"dataType\": \"Integral\",\n",
      "    \"isDataTypeInferred\": false,\n",
      "    \"typeCounts\": {},\n",
      "    \"histogram\": null,\n",
      "    \"kll\": \"None\",\n",
      "    \"mean\": 164.5522420814897,\n",
      "    \"maximum\": 265.0,\n",
      "    \"minimum\": 1.0,\n",
      "    \"sum\": 579599894.0,\n",
      "    \"stdDev\": 69.76912935351677,\n",
      "    \"approxPercentiles\": []\n",
      "}\n",
      "improvement_surcharge\n",
      "NumericProfiles for column: improvement_surcharge: {\n",
      "    \"completeness\": 1.0,\n",
      "    \"approximateNumDistinctValues\": 5,\n",
      "    \"dataType\": \"Fractional\",\n",
      "    \"isDataTypeInferred\": false,\n",
      "    \"typeCounts\": {},\n",
      "    \"histogram\": [\n",
      "        [\n",
      "            \"0.0\",\n",
      "            1539,\n",
      "            0.00043693227549729795\n",
      "        ],\n",
      "        [\n",
      "            \"-1.0\",\n",
      "            36962,\n",
      "            0.010493756183840887\n",
      "        ],\n",
      "        [\n",
      "            \"0.3\",\n",
      "            916,\n",
      "            0.0002600584563713612\n",
      "        ],\n",
      "        [\n",
      "            \"1.0\",\n",
      "            3482867,\n",
      "            0.9888089691776787\n",
      "        ],\n",
      "        [\n",
      "            \"-0.3\",\n",
      "            1,\n",
      "            2.8390661175912797e-07\n",
      "        ]\n",
      "    ],\n",
      "    \"kll\": \"None\",\n",
      "    \"mean\": 0.978393145358766,\n",
      "    \"maximum\": 1.0,\n",
      "    \"minimum\": -1.0,\n",
      "    \"sum\": 3446179.500000001,\n",
      "    \"stdDev\": 0.20511706240381583,\n",
      "    \"approxPercentiles\": []\n",
      "}\n",
      "tpep_dropoff_datetime\n",
      "StandardProfiles for column: tpep_dropoff_datetime: {\n",
      "    \"completeness\": 1.0,\n",
      "    \"approximateNumDistinctValues\": 1723476,\n",
      "    \"dataType\": \"String\",\n",
      "    \"isDataTypeInferred\": false,\n",
      "    \"typeCounts\": {},\n",
      "    \"histogram\": null\n",
      "}\n",
      "PULocationID\n",
      "NumericProfiles for column: PULocationID: {\n",
      "    \"completeness\": 1.0,\n",
      "    \"approximateNumDistinctValues\": 259,\n",
      "    \"dataType\": \"Integral\",\n",
      "    \"isDataTypeInferred\": false,\n",
      "    \"typeCounts\": {},\n",
      "    \"histogram\": null,\n",
      "    \"kll\": \"None\",\n",
      "    \"mean\": 165.42121719281658,\n",
      "    \"maximum\": 265.0,\n",
      "    \"minimum\": 1.0,\n",
      "    \"sum\": 582660672.0,\n",
      "    \"stdDev\": 64.06097676325575,\n",
      "    \"approxPercentiles\": []\n",
      "}\n",
      "trip_distance\n",
      "NumericProfiles for column: trip_distance: {\n",
      "    \"completeness\": 1.0,\n",
      "    \"approximateNumDistinctValues\": 4888,\n",
      "    \"dataType\": \"Fractional\",\n",
      "    \"isDataTypeInferred\": false,\n",
      "    \"typeCounts\": {},\n",
      "    \"histogram\": null,\n",
      "    \"kll\": \"None\",\n",
      "    \"mean\": 3.926694986351057,\n",
      "    \"maximum\": 205544.17,\n",
      "    \"minimum\": 0.0,\n",
      "    \"sum\": 13830938.849999534,\n",
      "    \"stdDev\": 196.60951653021021,\n",
      "    \"approxPercentiles\": []\n",
      "}\n",
      "Airport_fee\n",
      "NumericProfiles for column: Airport_fee: {\n",
      "    \"completeness\": 0.9560146325467701,\n",
      "    \"approximateNumDistinctValues\": 3,\n",
      "    \"dataType\": \"Fractional\",\n",
      "    \"isDataTypeInferred\": false,\n",
      "    \"typeCounts\": {},\n",
      "    \"histogram\": [\n",
      "        [\n",
      "            \"0.0\",\n",
      "            3060730,\n",
      "            0.8689614838095157\n",
      "        ],\n",
      "        [\n",
      "            \"-1.75\",\n",
      "            4999,\n",
      "            0.0014192491521838805\n",
      "        ],\n",
      "        [\n",
      "            \"1.75\",\n",
      "            301627,\n",
      "            0.08563389958507049\n",
      "        ],\n",
      "        [\n",
      "            \"NullValue\",\n",
      "            154929,\n",
      "            0.04398536745322994\n",
      "        ]\n",
      "    ],\n",
      "    \"kll\": \"None\",\n",
      "    \"mean\": 0.1541562579067969,\n",
      "    \"maximum\": 1.75,\n",
      "    \"minimum\": -1.75,\n",
      "    \"sum\": 519099.0,\n",
      "    \"stdDev\": 0.5050763833791191,\n",
      "    \"approxPercentiles\": []\n",
      "}\n",
      "tolls_amount\n",
      "NumericProfiles for column: tolls_amount: {\n",
      "    \"completeness\": 1.0,\n",
      "    \"approximateNumDistinctValues\": 976,\n",
      "    \"dataType\": \"Fractional\",\n",
      "    \"isDataTypeInferred\": false,\n",
      "    \"typeCounts\": {},\n",
      "    \"histogram\": null,\n",
      "    \"kll\": \"None\",\n",
      "    \"mean\": 0.6264000925528562,\n",
      "    \"maximum\": 270.0,\n",
      "    \"minimum\": -69.69,\n",
      "    \"sum\": 2206359.649997537,\n",
      "    \"stdDev\": 2.2850717180338487,\n",
      "    \"approxPercentiles\": []\n",
      "}\n",
      "RatecodeID\n",
      "NumericProfiles for column: RatecodeID: {\n",
      "    \"completeness\": 0.9560146325467701,\n",
      "    \"approximateNumDistinctValues\": 7,\n",
      "    \"dataType\": \"Integral\",\n",
      "    \"isDataTypeInferred\": false,\n",
      "    \"typeCounts\": {},\n",
      "    \"histogram\": [\n",
      "        [\n",
      "            \"4\",\n",
      "            7546,\n",
      "            0.0021423592923343797\n",
      "        ],\n",
      "        [\n",
      "            \"NullValue\",\n",
      "            154929,\n",
      "            0.04398536745322994\n",
      "        ],\n",
      "        [\n",
      "            \"99\",\n",
      "            21289,\n",
      "            0.006044087857740075\n",
      "        ],\n",
      "        [\n",
      "            \"5\",\n",
      "            22261,\n",
      "            0.0063200450843699475\n",
      "        ],\n",
      "        [\n",
      "            \"6\",\n",
      "            8,\n",
      "            2.2712528940730237e-06\n",
      "        ],\n",
      "        [\n",
      "            \"1\",\n",
      "            3166531,\n",
      "            0.8989990872402432\n",
      "        ],\n",
      "        [\n",
      "            \"2\",\n",
      "            137685,\n",
      "            0.03908968184005553\n",
      "        ],\n",
      "        [\n",
      "            \"3\",\n",
      "            12036,\n",
      "            0.003417099979132864\n",
      "        ]\n",
      "    ],\n",
      "    \"kll\": \"None\",\n",
      "    \"mean\": 1.7007875021233276,\n",
      "    \"maximum\": 99.0,\n",
      "    \"minimum\": 1.0,\n",
      "    \"sum\": 5727157.0,\n",
      "    \"stdDev\": 7.772272013045465,\n",
      "    \"approxPercentiles\": []\n",
      "}\n",
      "VendorID\n",
      "NumericProfiles for column: VendorID: {\n",
      "    \"completeness\": 1.0,\n",
      "    \"approximateNumDistinctValues\": 3,\n",
      "    \"dataType\": \"Integral\",\n",
      "    \"isDataTypeInferred\": false,\n",
      "    \"typeCounts\": {},\n",
      "    \"histogram\": [\n",
      "        [\n",
      "            \"1\",\n",
      "            904463,\n",
      "            0.25678302579149614\n",
      "        ],\n",
      "        [\n",
      "            \"6\",\n",
      "            502,\n",
      "            0.00014252111910308224\n",
      "        ],\n",
      "        [\n",
      "            \"2\",\n",
      "            2617320,\n",
      "            0.7430744530894008\n",
      "        ]\n",
      "    ],\n",
      "    \"kll\": \"None\",\n",
      "    \"mean\": 1.7437870586849162,\n",
      "    \"maximum\": 6.0,\n",
      "    \"minimum\": 1.0,\n",
      "    \"sum\": 6142115.0,\n",
      "    \"stdDev\": 0.4397934656174618,\n",
      "    \"approxPercentiles\": []\n",
      "}\n",
      "tip_amount\n",
      "NumericProfiles for column: tip_amount: {\n",
      "    \"completeness\": 1.0,\n",
      "    \"approximateNumDistinctValues\": 4220,\n",
      "    \"dataType\": \"Fractional\",\n",
      "    \"isDataTypeInferred\": false,\n",
      "    \"typeCounts\": {},\n",
      "    \"histogram\": null,\n",
      "    \"kll\": \"None\",\n",
      "    \"mean\": 3.6327237773203804,\n",
      "    \"maximum\": 412.94,\n",
      "    \"minimum\": -90.0,\n",
      "    \"sum\": 12795488.469998917,\n",
      "    \"stdDev\": 4.204858968040783,\n",
      "    \"approxPercentiles\": []\n",
      "}\n",
      "payment_type\n",
      "NumericProfiles for column: payment_type: {\n",
      "    \"completeness\": 1.0,\n",
      "    \"approximateNumDistinctValues\": 5,\n",
      "    \"dataType\": \"Integral\",\n",
      "    \"isDataTypeInferred\": false,\n",
      "    \"typeCounts\": {},\n",
      "    \"histogram\": [\n",
      "        [\n",
      "            \"4\",\n",
      "            48869,\n",
      "            0.013874232210056825\n",
      "        ],\n",
      "        [\n",
      "            \"1\",\n",
      "            2750639,\n",
      "            0.780924598662516\n",
      "        ],\n",
      "        [\n",
      "            \"0\",\n",
      "            154929,\n",
      "            0.04398536745322994\n",
      "        ],\n",
      "        [\n",
      "            \"2\",\n",
      "            546603,\n",
      "            0.15518420570737462\n",
      "        ],\n",
      "        [\n",
      "            \"3\",\n",
      "            21245,\n",
      "            0.006031595966822673\n",
      "        ]\n",
      "    ],\n",
      "    \"kll\": \"None\",\n",
      "    \"mean\": 1.1648847268179605,\n",
      "    \"maximum\": 4.0,\n",
      "    \"minimum\": 0.0,\n",
      "    \"sum\": 4103056.0,\n",
      "    \"stdDev\": 0.5665483860894683,\n",
      "    \"approxPercentiles\": []\n",
      "}\n",
      "fare_amount\n",
      "NumericProfiles for column: fare_amount: {\n",
      "    \"completeness\": 1.0,\n",
      "    \"approximateNumDistinctValues\": 8621,\n",
      "    \"dataType\": \"Fractional\",\n",
      "    \"isDataTypeInferred\": false,\n",
      "    \"typeCounts\": {},\n",
      "    \"histogram\": null,\n",
      "    \"kll\": \"None\",\n",
      "    \"mean\": 20.061739649121474,\n",
      "    \"maximum\": 6339.0,\n",
      "    \"minimum\": -900.0,\n",
      "    \"sum\": 70663164.64000583,\n",
      "    \"stdDev\": 19.396934439244685,\n",
      "    \"approxPercentiles\": []\n",
      "}\n",
      "passenger_count\n",
      "NumericProfiles for column: passenger_count: {\n",
      "    \"completeness\": 0.9560146325467701,\n",
      "    \"approximateNumDistinctValues\": 10,\n",
      "    \"dataType\": \"Integral\",\n",
      "    \"isDataTypeInferred\": false,\n",
      "    \"typeCounts\": {},\n",
      "    \"histogram\": [\n",
      "        [\n",
      "            \"8\",\n",
      "            10,\n",
      "            2.8390661175912797e-06\n",
      "        ],\n",
      "        [\n",
      "            \"4\",\n",
      "            66473,\n",
      "            0.018872124203464513\n",
      "        ],\n",
      "        [\n",
      "            \"9\",\n",
      "            1,\n",
      "            2.8390661175912797e-07\n",
      "        ],\n",
      "        [\n",
      "            \"NullValue\",\n",
      "            154929,\n",
      "            0.04398536745322994\n",
      "        ],\n",
      "        [\n",
      "            \"5\",\n",
      "            44449,\n",
      "            0.012619364986081478\n",
      "        ],\n",
      "        [\n",
      "            \"6\",\n",
      "            27588,\n",
      "            0.007832415605210821\n",
      "        ],\n",
      "        [\n",
      "            \"1\",\n",
      "            2557196,\n",
      "            0.726004851963995\n",
      "        ],\n",
      "        [\n",
      "            \"0\",\n",
      "            46634,\n",
      "            0.013239700932775173\n",
      "        ],\n",
      "        [\n",
      "            \"2\",\n",
      "            507321,\n",
      "            0.14403178618425255\n",
      "        ],\n",
      "        [\n",
      "            \"7\",\n",
      "            9,\n",
      "            2.5551595058321515e-06\n",
      "        ],\n",
      "        [\n",
      "            \"3\",\n",
      "            117675,\n",
      "            0.03340871053875538\n",
      "        ]\n",
      "    ],\n",
      "    \"kll\": \"None\",\n",
      "    \"mean\": 1.3597255532233599,\n",
      "    \"maximum\": 9.0,\n",
      "    \"minimum\": 0.0,\n",
      "    \"sum\": 4578680.0,\n",
      "    \"stdDev\": 0.876830445698568,\n",
      "    \"approxPercentiles\": []\n",
      "}\n",
      "store_and_fwd_flag\n",
      "StandardProfiles for column: store_and_fwd_flag: {\n",
      "    \"completeness\": 0.9560146325467701,\n",
      "    \"approximateNumDistinctValues\": 2,\n",
      "    \"dataType\": \"String\",\n",
      "    \"isDataTypeInferred\": false,\n",
      "    \"typeCounts\": {\n",
      "        \"Boolean\": 0,\n",
      "        \"Fractional\": 0,\n",
      "        \"Integral\": 0,\n",
      "        \"Unknown\": 154929,\n",
      "        \"String\": 3367356\n",
      "    },\n",
      "    \"histogram\": [\n",
      "        [\n",
      "            \"Y\",\n",
      "            25562,\n",
      "            0.007257220809786829\n",
      "        ],\n",
      "        [\n",
      "            \"N\",\n",
      "            3341794,\n",
      "            0.9487574117369832\n",
      "        ],\n",
      "        [\n",
      "            \"NullValue\",\n",
      "            154929,\n",
      "            0.04398536745322994\n",
      "        ]\n",
      "    ]\n",
      "}\n",
      "extra\n",
      "NumericProfiles for column: extra: {\n",
      "    \"completeness\": 1.0,\n",
      "    \"approximateNumDistinctValues\": 62,\n",
      "    \"dataType\": \"Fractional\",\n",
      "    \"isDataTypeInferred\": false,\n",
      "    \"typeCounts\": {},\n",
      "    \"histogram\": [\n",
      "        [\n",
      "            \"0.04\",\n",
      "            1,\n",
      "            2.8390661175912797e-07\n",
      "        ],\n",
      "        [\n",
      "            \"11.75\",\n",
      "            3043,\n",
      "            0.0008639278195830263\n",
      "        ],\n",
      "        [\n",
      "            \"2.8\",\n",
      "            1,\n",
      "            2.8390661175912797e-07\n",
      "        ],\n",
      "        [\n",
      "            \"6.0\",\n",
      "            29262,\n",
      "            0.008307675273295602\n",
      "        ],\n",
      "        [\n",
      "            \"-6.0\",\n",
      "            345,\n",
      "            9.794778105689915e-05\n",
      "        ],\n",
      "        [\n",
      "            \"2.95\",\n",
      "            1,\n",
      "            2.8390661175912797e-07\n",
      "        ],\n",
      "        [\n",
      "            \"4.5\",\n",
      "            2,\n",
      "            5.678132235182559e-07\n",
      "        ],\n",
      "        [\n",
      "            \"-0.75\",\n",
      "            2,\n",
      "            5.678132235182559e-07\n",
      "        ],\n",
      "        [\n",
      "            \"8.5\",\n",
      "            735,\n",
      "            0.00020867135964295906\n",
      "        ],\n",
      "        [\n",
      "            \"0.5\",\n",
      "            19,\n",
      "            5.394225623423431e-06\n",
      "        ],\n",
      "        [\n",
      "            \"1.03\",\n",
      "            1,\n",
      "            2.8390661175912797e-07\n",
      "        ],\n",
      "        [\n",
      "            \"10.25\",\n",
      "            3685,\n",
      "            0.0010461958643323865\n",
      "        ],\n",
      "        [\n",
      "            \"5.3\",\n",
      "            1,\n",
      "            2.8390661175912797e-07\n",
      "        ],\n",
      "        [\n",
      "            \"7.75\",\n",
      "            2995,\n",
      "            0.0008503003022185882\n",
      "        ],\n",
      "        [\n",
      "            \"0.0\",\n",
      "            1453715,\n",
      "            0.4127193001134207\n",
      "        ],\n",
      "        [\n",
      "            \"2.05\",\n",
      "            1,\n",
      "            2.8390661175912797e-07\n",
      "        ],\n",
      "        [\n",
      "            \"0.07\",\n",
      "            1,\n",
      "            2.8390661175912797e-07\n",
      "        ],\n",
      "        [\n",
      "            \"3.0\",\n",
      "            2,\n",
      "            5.678132235182559e-07\n",
      "        ],\n",
      "        [\n",
      "            \"5.25\",\n",
      "            64,\n",
      "            1.817002315258419e-05\n",
      "        ],\n",
      "        [\n",
      "            \"3.95\",\n",
      "            1,\n",
      "            2.8390661175912797e-07\n",
      "        ],\n",
      "        [\n",
      "            \"0.02\",\n",
      "            3,\n",
      "            8.517198352773839e-07\n",
      "        ],\n",
      "        [\n",
      "            \"-1.0\",\n",
      "            10979,\n",
      "            0.003117010690503466\n",
      "        ],\n",
      "        [\n",
      "            \"1.75\",\n",
      "            7668,\n",
      "            0.002176995898968993\n",
      "        ],\n",
      "        [\n",
      "            \"-2.5\",\n",
      "            5669,\n",
      "            0.0016094665820624964\n",
      "        ],\n",
      "        [\n",
      "            \"6.75\",\n",
      "            5750,\n",
      "            0.0016324630176149857\n",
      "        ],\n",
      "        [\n",
      "            \"17.25\",\n",
      "            1,\n",
      "            2.8390661175912797e-07\n",
      "        ],\n",
      "        [\n",
      "            \"6.49\",\n",
      "            1,\n",
      "            2.8390661175912797e-07\n",
      "        ],\n",
      "        [\n",
      "            \"3.5\",\n",
      "            180188,\n",
      "            0.05115656455965375\n",
      "        ],\n",
      "        [\n",
      "            \"10.0\",\n",
      "            1031,\n",
      "            0.0002927077167236609\n",
      "        ],\n",
      "        [\n",
      "            \"9.25\",\n",
      "            15204,\n",
      "            0.004316516125185781\n",
      "        ],\n",
      "        [\n",
      "            \"2.0\",\n",
      "            183,\n",
      "            5.195490995192042e-05\n",
      "        ],\n",
      "        [\n",
      "            \"1.5\",\n",
      "            11,\n",
      "            3.1229727293504074e-06\n",
      "        ],\n",
      "        [\n",
      "            \"12.75\",\n",
      "            2,\n",
      "            5.678132235182559e-07\n",
      "        ],\n",
      "        [\n",
      "            \"1.02\",\n",
      "            1,\n",
      "            2.8390661175912797e-07\n",
      "        ],\n",
      "        [\n",
      "            \"0.05\",\n",
      "            2,\n",
      "            5.678132235182559e-07\n",
      "        ],\n",
      "        [\n",
      "            \"7.5\",\n",
      "            31728,\n",
      "            0.009007788977893613\n",
      "        ],\n",
      "        [\n",
      "            \"0.75\",\n",
      "            16,\n",
      "            4.5425057881460475e-06\n",
      "        ],\n",
      "        [\n",
      "            \"2.9\",\n",
      "            1,\n",
      "            2.8390661175912797e-07\n",
      "        ],\n",
      "        [\n",
      "            \"0.01\",\n",
      "            1,\n",
      "            2.8390661175912797e-07\n",
      "        ],\n",
      "        [\n",
      "            \"-0.25\",\n",
      "            1,\n",
      "            2.8390661175912797e-07\n",
      "        ],\n",
      "        [\n",
      "            \"-1.03\",\n",
      "            1,\n",
      "            2.8390661175912797e-07\n",
      "        ],\n",
      "        [\n",
      "            \"1.0\",\n",
      "            683992,\n",
      "            0.19418985119034946\n",
      "        ],\n",
      "        [\n",
      "            \"3.25\",\n",
      "            22,\n",
      "            6.245945458700815e-06\n",
      "        ],\n",
      "        [\n",
      "            \"0.12\",\n",
      "            1,\n",
      "            2.8390661175912797e-07\n",
      "        ],\n",
      "        [\n",
      "            \"12.5\",\n",
      "            3,\n",
      "            8.517198352773839e-07\n",
      "        ],\n",
      "        [\n",
      "            \"0.03\",\n",
      "            3,\n",
      "            8.517198352773839e-07\n",
      "        ],\n",
      "        [\n",
      "            \"3.2\",\n",
      "            64,\n",
      "            1.817002315258419e-05\n",
      "        ],\n",
      "        [\n",
      "            \"2.5\",\n",
      "            820461,\n",
      "            0.23293430259050588\n",
      "        ],\n",
      "        [\n",
      "            \"5.5\",\n",
      "            1,\n",
      "            2.8390661175912797e-07\n",
      "        ],\n",
      "        [\n",
      "            \"0.2\",\n",
      "            1,\n",
      "            2.8390661175912797e-07\n",
      "        ],\n",
      "        [\n",
      "            \"-5.0\",\n",
      "            1359,\n",
      "            0.0003858290853806549\n",
      "        ],\n",
      "        [\n",
      "            \"-1.02\",\n",
      "            1,\n",
      "            2.8390661175912797e-07\n",
      "        ],\n",
      "        [\n",
      "            \"5.45\",\n",
      "            1,\n",
      "            2.8390661175912797e-07\n",
      "        ],\n",
      "        [\n",
      "            \"0.25\",\n",
      "            7,\n",
      "            1.9873462823138956e-06\n",
      "        ],\n",
      "        [\n",
      "            \"0.76\",\n",
      "            1,\n",
      "            2.8390661175912797e-07\n",
      "        ],\n",
      "        [\n",
      "            \"8.2\",\n",
      "            1,\n",
      "            2.8390661175912797e-07\n",
      "        ],\n",
      "        [\n",
      "            \"2.15\",\n",
      "            1,\n",
      "            2.8390661175912797e-07\n",
      "        ],\n",
      "        [\n",
      "            \"-7.5\",\n",
      "            262,\n",
      "            7.438353228089152e-05\n",
      "        ],\n",
      "        [\n",
      "            \"7.0\",\n",
      "            5,\n",
      "            1.4195330587956398e-06\n",
      "        ],\n",
      "        [\n",
      "            \"5.0\",\n",
      "            243622,\n",
      "            0.06916589656998227\n",
      "        ],\n",
      "        [\n",
      "            \"0.7\",\n",
      "            2,\n",
      "            5.678132235182559e-07\n",
      "        ],\n",
      "        [\n",
      "            \"4.25\",\n",
      "            15160,\n",
      "            0.00430402423426838\n",
      "        ],\n",
      "        [\n",
      "            \"1.06\",\n",
      "            1,\n",
      "            2.8390661175912797e-07\n",
      "        ],\n",
      "        [\n",
      "            \"2.75\",\n",
      "            4992,\n",
      "            0.0014172618059015668\n",
      "        ],\n",
      "        [\n",
      "            \"-3.5\",\n",
      "            2,\n",
      "            5.678132235182559e-07\n",
      "        ],\n",
      "        [\n",
      "            \"14.25\",\n",
      "            2,\n",
      "            5.678132235182559e-07\n",
      "        ]\n",
      "    ],\n",
      "    \"kll\": \"None\",\n",
      "    \"mean\": 1.518049916460479,\n",
      "    \"maximum\": 17.25,\n",
      "    \"minimum\": -7.5,\n",
      "    \"sum\": 5347004.449999998,\n",
      "    \"stdDev\": 1.8446343563381429,\n",
      "    \"approxPercentiles\": []\n",
      "}\n",
      "congestion_surcharge\n",
      "NumericProfiles for column: congestion_surcharge: {\n",
      "    \"completeness\": 0.9560146325467701,\n",
      "    \"approximateNumDistinctValues\": 3,\n",
      "    \"dataType\": \"Fractional\",\n",
      "    \"isDataTypeInferred\": false,\n",
      "    \"typeCounts\": {},\n",
      "    \"histogram\": [\n",
      "        [\n",
      "            \"-2.5\",\n",
      "            30291,\n",
      "            0.008599815176795745\n",
      "        ],\n",
      "        [\n",
      "            \"0.0\",\n",
      "            252389,\n",
      "            0.07165490583527455\n",
      "        ],\n",
      "        [\n",
      "            \"NullValue\",\n",
      "            154929,\n",
      "            0.04398536745322994\n",
      "        ],\n",
      "        [\n",
      "            \"2.5\",\n",
      "            3084676,\n",
      "            0.8757599115346998\n",
      "        ]\n",
      "    ],\n",
      "    \"kll\": \"None\",\n",
      "    \"mean\": 2.267643367674817,\n",
      "    \"maximum\": 2.5,\n",
      "    \"minimum\": -2.5,\n",
      "    \"sum\": 7635962.5,\n",
      "    \"stdDev\": 0.7995908561811049,\n",
      "    \"approxPercentiles\": []\n",
      "}\n",
      "total_amount\n",
      "NumericProfiles for column: total_amount: {\n",
      "    \"completeness\": 1.0,\n",
      "    \"approximateNumDistinctValues\": 17649,\n",
      "    \"dataType\": \"Fractional\",\n",
      "    \"isDataTypeInferred\": false,\n",
      "    \"typeCounts\": {},\n",
      "    \"histogram\": null,\n",
      "    \"kll\": \"None\",\n",
      "    \"mean\": 29.17137076076931,\n",
      "    \"maximum\": 6339.0,\n",
      "    \"minimum\": -901.0,\n",
      "    \"sum\": 102749881.66009633,\n",
      "    \"stdDev\": 24.315046732781724,\n",
      "    \"approxPercentiles\": []\n",
      "}\n",
      "tpep_pickup_datetime\n",
      "StandardProfiles for column: tpep_pickup_datetime: {\n",
      "    \"completeness\": 1.0,\n",
      "    \"approximateNumDistinctValues\": 1691387,\n",
      "    \"dataType\": \"String\",\n",
      "    \"isDataTypeInferred\": false,\n",
      "    \"typeCounts\": {},\n",
      "    \"histogram\": null\n",
      "}\n",
      "mta_tax\n",
      "NumericProfiles for column: mta_tax: {\n",
      "    \"completeness\": 1.0,\n",
      "    \"approximateNumDistinctValues\": 13,\n",
      "    \"dataType\": \"Fractional\",\n",
      "    \"isDataTypeInferred\": false,\n",
      "    \"typeCounts\": {},\n",
      "    \"histogram\": [\n",
      "        [\n",
      "            \"52.09\",\n",
      "            1,\n",
      "            2.8390661175912797e-07\n",
      "        ],\n",
      "        [\n",
      "            \"-0.5\",\n",
      "            35781,\n",
      "            0.010158462475353357\n",
      "        ],\n",
      "        [\n",
      "            \"-0.05\",\n",
      "            1,\n",
      "            2.8390661175912797e-07\n",
      "        ],\n",
      "        [\n",
      "            \"0.8\",\n",
      "            1,\n",
      "            2.8390661175912797e-07\n",
      "        ],\n",
      "        [\n",
      "            \"0.5\",\n",
      "            3448404,\n",
      "            0.9790246956166239\n",
      "        ],\n",
      "        [\n",
      "            \"0.0\",\n",
      "            38033,\n",
      "            0.010797820165034914\n",
      "        ],\n",
      "        [\n",
      "            \"3.0\",\n",
      "            2,\n",
      "            5.678132235182559e-07\n",
      "        ],\n",
      "        [\n",
      "            \"1.1\",\n",
      "            1,\n",
      "            2.8390661175912797e-07\n",
      "        ],\n",
      "        [\n",
      "            \"1.6\",\n",
      "            1,\n",
      "            2.8390661175912797e-07\n",
      "        ],\n",
      "        [\n",
      "            \"4.0\",\n",
      "            2,\n",
      "            5.678132235182559e-07\n",
      "        ],\n",
      "        [\n",
      "            \"0.05\",\n",
      "            54,\n",
      "            1.5330957034992908e-05\n",
      "        ],\n",
      "        [\n",
      "            \"1.05\",\n",
      "            2,\n",
      "            5.678132235182559e-07\n",
      "        ],\n",
      "        [\n",
      "            \"1.0\",\n",
      "            1,\n",
      "            2.8390661175912797e-07\n",
      "        ],\n",
      "        [\n",
      "            \"33.01\",\n",
      "            1,\n",
      "            2.8390661175912797e-07\n",
      "        ]\n",
      "    ],\n",
      "    \"kll\": \"None\",\n",
      "    \"mean\": 0.4844638778520193,\n",
      "    \"maximum\": 52.09,\n",
      "    \"minimum\": -0.5,\n",
      "    \"sum\": 1706419.8499999996,\n",
      "    \"stdDev\": 0.11698992156104703,\n",
      "    \"approxPercentiles\": []\n",
      "}"
     ]
    }
   ],
   "source": [
    "from pydeequ.profiles import ColumnProfilerRunner\n",
    "\n",
    "# Profiling all the columns: ColumnProfilerRunner.onData returns a ColumnProfilerRunBuilder\n",
    "result = ColumnProfilerRunner(spark) \\\n",
    "            .onData(yellow_df) \\\n",
    "            .run()\n",
    "\n",
    "# printing all the columns and their corresponding profiled data.\n",
    "for col_name, profile in result.profiles.items():\n",
    "    print(col_name)\n",
    "    print(profile)"
   ]
  },
  {
   "cell_type": "markdown",
   "id": "0f3b5e6d",
   "metadata": {},
   "source": [
    "### Profiling specific columns"
   ]
  },
  {
   "cell_type": "code",
   "execution_count": 7,
   "id": "8d12d7c3-2898-4ba3-8857-7eb408171cc1",
   "metadata": {
    "execution": {
     "iopub.execute_input": "2023-12-23T12:04:30.761668Z",
     "iopub.status.busy": "2023-12-23T12:04:30.761274Z",
     "iopub.status.idle": "2023-12-23T12:04:50.269481Z",
     "shell.execute_reply": "2023-12-23T12:04:50.268361Z",
     "shell.execute_reply.started": "2023-12-23T12:04:30.761636Z"
    }
   },
   "outputs": [
    {
     "data": {
      "application/vnd.jupyter.widget-view+json": {
       "model_id": "99598a210518486cbd817a08c9530a16",
       "version_major": 2,
       "version_minor": 0
      },
      "text/plain": [
       "VBox()"
      ]
     },
     "metadata": {},
     "output_type": "display_data"
    },
    {
     "data": {
      "application/vnd.jupyter.widget-view+json": {
       "model_id": "",
       "version_major": 2,
       "version_minor": 0
      },
      "text/plain": [
       "FloatProgress(value=0.0, bar_style='info', description='Progress:', layout=Layout(height='25px', width='50%'),…"
      ]
     },
     "metadata": {},
     "output_type": "display_data"
    },
    {
     "name": "stdout",
     "output_type": "stream",
     "text": [
      "VendorID\n",
      "NumericProfiles for column: VendorID: {\n",
      "    \"completeness\": 1.0,\n",
      "    \"approximateNumDistinctValues\": 3,\n",
      "    \"dataType\": \"Integral\",\n",
      "    \"isDataTypeInferred\": false,\n",
      "    \"typeCounts\": {},\n",
      "    \"histogram\": [\n",
      "        [\n",
      "            \"2\",\n",
      "            2617320,\n",
      "            0.7430744530894008\n",
      "        ],\n",
      "        [\n",
      "            \"1\",\n",
      "            904463,\n",
      "            0.25678302579149614\n",
      "        ],\n",
      "        [\n",
      "            \"6\",\n",
      "            502,\n",
      "            0.00014252111910308224\n",
      "        ]\n",
      "    ],\n",
      "    \"kll\": \"None\",\n",
      "    \"mean\": 1.7437870586849162,\n",
      "    \"maximum\": 6.0,\n",
      "    \"minimum\": 1.0,\n",
      "    \"sum\": 6142115.0,\n",
      "    \"stdDev\": 0.4397934656174618,\n",
      "    \"approxPercentiles\": []\n",
      "}\n",
      "trip_distance\n",
      "NumericProfiles for column: trip_distance: {\n",
      "    \"completeness\": 1.0,\n",
      "    \"approximateNumDistinctValues\": 4888,\n",
      "    \"dataType\": \"Fractional\",\n",
      "    \"isDataTypeInferred\": false,\n",
      "    \"typeCounts\": {},\n",
      "    \"histogram\": null,\n",
      "    \"kll\": \"None\",\n",
      "    \"mean\": 3.926694986351057,\n",
      "    \"maximum\": 205544.17,\n",
      "    \"minimum\": 0.0,\n",
      "    \"sum\": 13830938.849999534,\n",
      "    \"stdDev\": 196.60951653021021,\n",
      "    \"approxPercentiles\": []\n",
      "}\n",
      "total_amount\n",
      "NumericProfiles for column: total_amount: {\n",
      "    \"completeness\": 1.0,\n",
      "    \"approximateNumDistinctValues\": 17649,\n",
      "    \"dataType\": \"Fractional\",\n",
      "    \"isDataTypeInferred\": false,\n",
      "    \"typeCounts\": {},\n",
      "    \"histogram\": null,\n",
      "    \"kll\": \"None\",\n",
      "    \"mean\": 29.17137076076931,\n",
      "    \"maximum\": 6339.0,\n",
      "    \"minimum\": -901.0,\n",
      "    \"sum\": 102749881.66009633,\n",
      "    \"stdDev\": 24.315046732781724,\n",
      "    \"approxPercentiles\": []\n",
      "}"
     ]
    }
   ],
   "source": [
    "# Restricting to columns of interest only\n",
    "column_profiler = ColumnProfilerRunner(spark) \\\n",
    "                            .onData(yellow_df) \\\n",
    "                            .restrictToColumns(['VendorID', 'trip_distance', 'total_amount'])\\\n",
    "                            .run()\n",
    "\n",
    "for col_name, profile in column_profiler.profiles.items():\n",
    "    print(col_name)\n",
    "    print(profile)"
   ]
  },
  {
   "cell_type": "markdown",
   "id": "f0360fa6-52ea-4797-b482-24b22e5354e5",
   "metadata": {},
   "source": [
    "## Analyzers for Data Analysis"
   ]
  },
  {
   "cell_type": "code",
   "execution_count": 8,
   "id": "b2224d90-f723-4a34-a63b-98959cd8ede7",
   "metadata": {
    "execution": {
     "iopub.execute_input": "2023-12-23T12:05:26.438171Z",
     "iopub.status.busy": "2023-12-23T12:05:26.437747Z",
     "iopub.status.idle": "2023-12-23T12:05:32.125184Z",
     "shell.execute_reply": "2023-12-23T12:05:32.115942Z",
     "shell.execute_reply.started": "2023-12-23T12:05:26.438138Z"
    }
   },
   "outputs": [
    {
     "data": {
      "application/vnd.jupyter.widget-view+json": {
       "model_id": "7668a7791d064c55a72437d838f8f52c",
       "version_major": 2,
       "version_minor": 0
      },
      "text/plain": [
       "VBox()"
      ]
     },
     "metadata": {},
     "output_type": "display_data"
    },
    {
     "data": {
      "application/vnd.jupyter.widget-view+json": {
       "model_id": "",
       "version_major": 2,
       "version_minor": 0
      },
      "text/plain": [
       "FloatProgress(value=0.0, bar_style='info', description='Progress:', layout=Layout(height='25px', width='50%'),…"
      ]
     },
     "metadata": {},
     "output_type": "display_data"
    },
    {
     "name": "stdout",
     "output_type": "stream",
     "text": [
      "+-----------+--------------------+------------+--------------------+\n",
      "|     entity|            instance|        name|               value|\n",
      "+-----------+--------------------+------------+--------------------+\n",
      "|     Column|        total_amount|         Sum|1.0274988166009633E8|\n",
      "|     Column|            VendorID|Distinctness|8.517198352773839E-7|\n",
      "|Mutlicolumn|VendorID,payment_...|  Uniqueness|                 0.0|\n",
      "|     Column|       trip_distance|        Mean|   3.926694986351057|\n",
      "|    Dataset|                   *|        Size|           3522285.0|\n",
      "|     Column|        payment_type|  Compliance|  0.9560146325467701|\n",
      "|     Column|            VendorID|Completeness|                 1.0|\n",
      "|     Column|               extra|     Maximum|               17.25|\n",
      "+-----------+--------------------+------------+--------------------+\n",
      "\n",
      "/mnt/yarn/usercache/livy/appcache/application_1703332378559_0001/container_1703332378559_0001_01_000001/pyspark.zip/pyspark/sql/dataframe.py:127: UserWarning: DataFrame constructor is internal. Do not directly use it."
     ]
    }
   ],
   "source": [
    "from pydeequ.analyzers import AnalysisRunner, AnalyzerContext, Size, Completeness, Distinctness, Uniqueness, Compliance, Mean, Sum, Maximum\n",
    "\n",
    "# Adding Analyzers for metrics computation\n",
    "analysisResult = AnalysisRunner(spark) \\\n",
    "                    .onData(yellow_df) \\\n",
    "                    .addAnalyzer(Size()) \\\n",
    "                    .addAnalyzer(Completeness(\"VendorID\")) \\\n",
    "                    .addAnalyzer(Distinctness(\"VendorID\")) \\\n",
    "                    .addAnalyzer(Uniqueness([\"VendorID\", \"payment_type\"])) \\\n",
    "                    .addAnalyzer(Compliance(\"payment_type\", \"payment_type in (1,2,3,4,5,6)\")) \\\n",
    "                    .addAnalyzer(Mean(\"trip_distance\")) \\\n",
    "                    .addAnalyzer(Sum(\"total_amount\")) \\\n",
    "                    .addAnalyzer(Maximum(\"extra\")) \\\n",
    "                    .run()\n",
    "                    \n",
    "analysisResult_df = AnalyzerContext.successMetricsAsDataFrame(spark, analysisResult)\n",
    "analysisResult_df.show()"
   ]
  },
  {
   "cell_type": "code",
   "execution_count": 9,
   "id": "65f76f77-540f-4f71-ad56-fd2e8e4d5d90",
   "metadata": {
    "execution": {
     "iopub.execute_input": "2023-12-23T12:05:37.506198Z",
     "iopub.status.busy": "2023-12-23T12:05:37.505774Z",
     "iopub.status.idle": "2023-12-23T12:05:39.018377Z",
     "shell.execute_reply": "2023-12-23T12:05:39.017532Z",
     "shell.execute_reply.started": "2023-12-23T12:05:37.506165Z"
    }
   },
   "outputs": [
    {
     "data": {
      "application/vnd.jupyter.widget-view+json": {
       "model_id": "",
       "version_major": 2,
       "version_minor": 0
      },
      "text/plain": [
       "FloatProgress(value=0.0, bar_style='info', description='Progress:', layout=Layout(height='25px', width='50%'),…"
      ]
     },
     "metadata": {},
     "output_type": "display_data"
    },
    {
     "data": {
      "text/html": [
       "<style>.jp-OutputArea-child .jupyter-widgets.jp-OutputArea-output { overflow: auto; }</style>"
      ],
      "text/plain": [
       "<IPython.core.display.HTML object>"
      ]
     },
     "metadata": {},
     "output_type": "display_data"
    },
    {
     "data": {
      "application/vnd.jupyter.widget-view+json": {
       "model_id": "ba46d8e14da5475ab9a903a07ad4fd0a",
       "version_major": 2,
       "version_minor": 0
      },
      "text/plain": [
       "VBox(children=(HBox(children=(HTML(value='Type:'), Button(description='Table', layout=Layout(width='70px'), st…"
      ]
     },
     "metadata": {},
     "output_type": "display_data"
    },
    {
     "data": {
      "application/vnd.jupyter.widget-view+json": {
       "model_id": "839292d034824162a9594df0460c2382",
       "version_major": 2,
       "version_minor": 0
      },
      "text/plain": [
       "Output()"
      ]
     },
     "metadata": {},
     "output_type": "display_data"
    }
   ],
   "source": [
    "%%display\n",
    "analysisResult_df"
   ]
  },
  {
   "cell_type": "markdown",
   "id": "c1f31dc6-a1bb-4ab6-ad3e-b21e9f9b6f4e",
   "metadata": {},
   "source": [
    "## Constraints Suggestion"
   ]
  },
  {
   "cell_type": "code",
   "execution_count": 12,
   "id": "83e192df-a9ee-483c-879d-32b0c36e9ecb",
   "metadata": {
    "execution": {
     "iopub.execute_input": "2023-12-23T12:08:21.905061Z",
     "iopub.status.busy": "2023-12-23T12:08:21.904711Z",
     "iopub.status.idle": "2023-12-23T12:08:37.394328Z",
     "shell.execute_reply": "2023-12-23T12:08:37.393403Z",
     "shell.execute_reply.started": "2023-12-23T12:08:21.905030Z"
    },
    "tags": []
   },
   "outputs": [
    {
     "data": {
      "application/vnd.jupyter.widget-view+json": {
       "model_id": "055c2f4bfd3344efa001374d744185d1",
       "version_major": 2,
       "version_minor": 0
      },
      "text/plain": [
       "VBox()"
      ]
     },
     "metadata": {},
     "output_type": "display_data"
    },
    {
     "data": {
      "application/vnd.jupyter.widget-view+json": {
       "model_id": "",
       "version_major": 2,
       "version_minor": 0
      },
      "text/plain": [
       "FloatProgress(value=0.0, bar_style='info', description='Progress:', layout=Layout(height='25px', width='50%'),…"
      ]
     },
     "metadata": {},
     "output_type": "display_data"
    },
    {
     "name": "stdout",
     "output_type": "stream",
     "text": [
      "{\n",
      "  \"constraint_suggestions\": [\n",
      "    {\n",
      "      \"constraint_name\": \"CompletenessConstraint(Completeness(DOLocationID,None))\",\n",
      "      \"column_name\": \"DOLocationID\",\n",
      "      \"current_value\": \"Completeness: 1.0\",\n",
      "      \"description\": \"'DOLocationID' is not null\",\n",
      "      \"suggesting_rule\": \"CompleteIfCompleteRule()\",\n",
      "      \"rule_description\": \"If a column is complete in the sample, we suggest a NOT NULL constraint\",\n",
      "      \"code_for_constraint\": \".isComplete(\\\"DOLocationID\\\")\"\n",
      "    },\n",
      "    {\n",
      "      \"constraint_name\": \"ComplianceConstraint(Compliance('DOLocationID' has no negative values,DOLocationID >= 0,None))\",\n",
      "      \"column_name\": \"DOLocationID\",\n",
      "      \"current_value\": \"Minimum: 1.0\",\n",
      "      \"description\": \"'DOLocationID' has no negative values\",\n",
      "      \"suggesting_rule\": \"NonNegativeNumbersRule()\",\n",
      "      \"rule_description\": \"If we see only non-negative numbers in a column, we suggest a corresponding constraint\",\n",
      "      \"code_for_constraint\": \".isNonNegative(\\\"DOLocationID\\\")\"\n",
      "    },\n",
      "    {\n",
      "      \"constraint_name\": \"CompletenessConstraint(Completeness(improvement_surcharge,None))\",\n",
      "      \"column_name\": \"improvement_surcharge\",\n",
      "      \"current_value\": \"Completeness: 1.0\",\n",
      "      \"description\": \"'improvement_surcharge' is not null\",\n",
      "      \"suggesting_rule\": \"CompleteIfCompleteRule()\",\n",
      "      \"rule_description\": \"If a column is complete in the sample, we suggest a NOT NULL constraint\",\n",
      "      \"code_for_constraint\": \".isComplete(\\\"improvement_surcharge\\\")\"\n",
      "    },\n",
      "    {\n",
      "      \"constraint_name\": \"CompletenessConstraint(Completeness(tpep_dropoff_datetime,None))\",\n",
      "      \"column_name\": \"tpep_dropoff_datetime\",\n",
      "      \"current_value\": \"Completeness: 1.0\",\n",
      "      \"description\": \"'tpep_dropoff_datetime' is not null\",\n",
      "      \"suggesting_rule\": \"CompleteIfCompleteRule()\",\n",
      "      \"rule_description\": \"If a column is complete in the sample, we suggest a NOT NULL constraint\",\n",
      "      \"code_for_constraint\": \".isComplete(\\\"tpep_dropoff_datetime\\\")\"\n",
      "    },\n",
      "    {\n",
      "      \"constraint_name\": \"CompletenessConstraint(Completeness(PULocationID,None))\",\n",
      "      \"column_name\": \"PULocationID\",\n",
      "      \"current_value\": \"Completeness: 1.0\",\n",
      "      \"description\": \"'PULocationID' is not null\",\n",
      "      \"suggesting_rule\": \"CompleteIfCompleteRule()\",\n",
      "      \"rule_description\": \"If a column is complete in the sample, we suggest a NOT NULL constraint\",\n",
      "      \"code_for_constraint\": \".isComplete(\\\"PULocationID\\\")\"\n",
      "    },\n",
      "    {\n",
      "      \"constraint_name\": \"ComplianceConstraint(Compliance('PULocationID' has no negative values,PULocationID >= 0,None))\",\n",
      "      \"column_name\": \"PULocationID\",\n",
      "      \"current_value\": \"Minimum: 1.0\",\n",
      "      \"description\": \"'PULocationID' has no negative values\",\n",
      "      \"suggesting_rule\": \"NonNegativeNumbersRule()\",\n",
      "      \"rule_description\": \"If we see only non-negative numbers in a column, we suggest a corresponding constraint\",\n",
      "      \"code_for_constraint\": \".isNonNegative(\\\"PULocationID\\\")\"\n",
      "    },\n",
      "    {\n",
      "      \"constraint_name\": \"CompletenessConstraint(Completeness(trip_distance,None))\",\n",
      "      \"column_name\": \"trip_distance\",\n",
      "      \"current_value\": \"Completeness: 1.0\",\n",
      "      \"description\": \"'trip_distance' is not null\",\n",
      "      \"suggesting_rule\": \"CompleteIfCompleteRule()\",\n",
      "      \"rule_description\": \"If a column is complete in the sample, we suggest a NOT NULL constraint\",\n",
      "      \"code_for_constraint\": \".isComplete(\\\"trip_distance\\\")\"\n",
      "    },\n",
      "    {\n",
      "      \"constraint_name\": \"ComplianceConstraint(Compliance('trip_distance' has no negative values,trip_distance >= 0,None))\",\n",
      "      \"column_name\": \"trip_distance\",\n",
      "      \"current_value\": \"Minimum: 0.0\",\n",
      "      \"description\": \"'trip_distance' has no negative values\",\n",
      "      \"suggesting_rule\": \"NonNegativeNumbersRule()\",\n",
      "      \"rule_description\": \"If we see only non-negative numbers in a column, we suggest a corresponding constraint\",\n",
      "      \"code_for_constraint\": \".isNonNegative(\\\"trip_distance\\\")\"\n",
      "    },\n",
      "    {\n",
      "      \"constraint_name\": \"CompletenessConstraint(Completeness(Airport_fee,None))\",\n",
      "      \"column_name\": \"Airport_fee\",\n",
      "      \"current_value\": \"Completeness: 0.9560146325467701\",\n",
      "      \"description\": \"'Airport_fee' has less than 5% missing values\",\n",
      "      \"suggesting_rule\": \"RetainCompletenessRule()\",\n",
      "      \"rule_description\": \"If a column is incomplete in the sample, we model its completeness as a binomial variable, estimate a confidence interval and use this to define a lower bound for the completeness\",\n",
      "      \"code_for_constraint\": \".hasCompleteness(\\\"Airport_fee\\\", lambda x: x >= 0.95, \\\"It should be above 0.95!\\\")\"\n",
      "    },\n",
      "    {\n",
      "      \"constraint_name\": \"CompletenessConstraint(Completeness(tolls_amount,None))\",\n",
      "      \"column_name\": \"tolls_amount\",\n",
      "      \"current_value\": \"Completeness: 1.0\",\n",
      "      \"description\": \"'tolls_amount' is not null\",\n",
      "      \"suggesting_rule\": \"CompleteIfCompleteRule()\",\n",
      "      \"rule_description\": \"If a column is complete in the sample, we suggest a NOT NULL constraint\",\n",
      "      \"code_for_constraint\": \".isComplete(\\\"tolls_amount\\\")\"\n",
      "    },\n",
      "    {\n",
      "      \"constraint_name\": \"ComplianceConstraint(Compliance('RatecodeID' has value range '1', '2', '5', '99', '3', '4', '6',`RatecodeID` IN ('1', '2', '5', '99', '3', '4', '6'),None))\",\n",
      "      \"column_name\": \"RatecodeID\",\n",
      "      \"current_value\": \"Compliance: 1\",\n",
      "      \"description\": \"'RatecodeID' has value range '1', '2', '5', '99', '3', '4', '6'\",\n",
      "      \"suggesting_rule\": \"CategoricalRangeRule(com.amazon.deequ.suggestions.rules.CategoricalRangeRule$$$Lambda$5420/1408753468@be05b8f)\",\n",
      "      \"rule_description\": \"If we see a categorical range for a column, we suggest an IS IN (...) constraint\",\n",
      "      \"code_for_constraint\": \".isContainedIn(\\\"RatecodeID\\\", [\\\"1\\\", \\\"2\\\", \\\"5\\\", \\\"99\\\", \\\"3\\\", \\\"4\\\", \\\"6\\\"])\"\n",
      "    },\n",
      "    {\n",
      "      \"constraint_name\": \"ComplianceConstraint(Compliance('RatecodeID' has value range '1' for at least 94.0% of values,`RatecodeID` IN ('1'),None))\",\n",
      "      \"column_name\": \"RatecodeID\",\n",
      "      \"current_value\": \"Compliance: 0.9429844546934731\",\n",
      "      \"description\": \"'RatecodeID' has value range '1' for at least 94.0% of values\",\n",
      "      \"suggesting_rule\": \"FractionalCategoricalRangeRule(0.9,com.amazon.deequ.suggestions.rules.FractionalCategoricalRangeRule$$$Lambda$5421/877307438@4240b7d2)\",\n",
      "      \"rule_description\": \"If we see a categorical range for most values in a column, we suggest an IS IN (...) constraint that should hold for most values\",\n",
      "      \"code_for_constraint\": \".isContainedIn(\\\"RatecodeID\\\", [\\\"1\\\"], lambda x: x >= 0.94, \\\"It should be above 0.94!\\\")\"\n",
      "    },\n",
      "    {\n",
      "      \"constraint_name\": \"ComplianceConstraint(Compliance('RatecodeID' has no negative values,RatecodeID >= 0,None))\",\n",
      "      \"column_name\": \"RatecodeID\",\n",
      "      \"current_value\": \"Minimum: 1.0\",\n",
      "      \"description\": \"'RatecodeID' has no negative values\",\n",
      "      \"suggesting_rule\": \"NonNegativeNumbersRule()\",\n",
      "      \"rule_description\": \"If we see only non-negative numbers in a column, we suggest a corresponding constraint\",\n",
      "      \"code_for_constraint\": \".isNonNegative(\\\"RatecodeID\\\")\"\n",
      "    },\n",
      "    {\n",
      "      \"constraint_name\": \"CompletenessConstraint(Completeness(RatecodeID,None))\",\n",
      "      \"column_name\": \"RatecodeID\",\n",
      "      \"current_value\": \"Completeness: 0.9560146325467701\",\n",
      "      \"description\": \"'RatecodeID' has less than 5% missing values\",\n",
      "      \"suggesting_rule\": \"RetainCompletenessRule()\",\n",
      "      \"rule_description\": \"If a column is incomplete in the sample, we model its completeness as a binomial variable, estimate a confidence interval and use this to define a lower bound for the completeness\",\n",
      "      \"code_for_constraint\": \".hasCompleteness(\\\"RatecodeID\\\", lambda x: x >= 0.95, \\\"It should be above 0.95!\\\")\"\n",
      "    },\n",
      "    {\n",
      "      \"constraint_name\": \"ComplianceConstraint(Compliance('VendorID' has value range '2', '1', '6',`VendorID` IN ('2', '1', '6'),None))\",\n",
      "      \"column_name\": \"VendorID\",\n",
      "      \"current_value\": \"Compliance: 1\",\n",
      "      \"description\": \"'VendorID' has value range '2', '1', '6'\",\n",
      "      \"suggesting_rule\": \"CategoricalRangeRule(com.amazon.deequ.suggestions.rules.CategoricalRangeRule$$$Lambda$5420/1408753468@be05b8f)\",\n",
      "      \"rule_description\": \"If we see a categorical range for a column, we suggest an IS IN (...) constraint\",\n",
      "      \"code_for_constraint\": \".isContainedIn(\\\"VendorID\\\", [\\\"2\\\", \\\"1\\\", \\\"6\\\"])\"\n",
      "    },\n",
      "    {\n",
      "      \"constraint_name\": \"CompletenessConstraint(Completeness(VendorID,None))\",\n",
      "      \"column_name\": \"VendorID\",\n",
      "      \"current_value\": \"Completeness: 1.0\",\n",
      "      \"description\": \"'VendorID' is not null\",\n",
      "      \"suggesting_rule\": \"CompleteIfCompleteRule()\",\n",
      "      \"rule_description\": \"If a column is complete in the sample, we suggest a NOT NULL constraint\",\n",
      "      \"code_for_constraint\": \".isComplete(\\\"VendorID\\\")\"\n",
      "    },\n",
      "    {\n",
      "      \"constraint_name\": \"ComplianceConstraint(Compliance('VendorID' has value range '2', '1' for at least 99.0% of values,`VendorID` IN ('2', '1'),None))\",\n",
      "      \"column_name\": \"VendorID\",\n",
      "      \"current_value\": \"Compliance: 0.9998574788808969\",\n",
      "      \"description\": \"'VendorID' has value range '2', '1' for at least 99.0% of values\",\n",
      "      \"suggesting_rule\": \"FractionalCategoricalRangeRule(0.9,com.amazon.deequ.suggestions.rules.FractionalCategoricalRangeRule$$$Lambda$5421/877307438@4240b7d2)\",\n",
      "      \"rule_description\": \"If we see a categorical range for most values in a column, we suggest an IS IN (...) constraint that should hold for most values\",\n",
      "      \"code_for_constraint\": \".isContainedIn(\\\"VendorID\\\", [\\\"2\\\", \\\"1\\\"], lambda x: x >= 0.99, \\\"It should be above 0.99!\\\")\"\n",
      "    },\n",
      "    {\n",
      "      \"constraint_name\": \"ComplianceConstraint(Compliance('VendorID' has no negative values,VendorID >= 0,None))\",\n",
      "      \"column_name\": \"VendorID\",\n",
      "      \"current_value\": \"Minimum: 1.0\",\n",
      "      \"description\": \"'VendorID' has no negative values\",\n",
      "      \"suggesting_rule\": \"NonNegativeNumbersRule()\",\n",
      "      \"rule_description\": \"If we see only non-negative numbers in a column, we suggest a corresponding constraint\",\n",
      "      \"code_for_constraint\": \".isNonNegative(\\\"VendorID\\\")\"\n",
      "    },\n",
      "    {\n",
      "      \"constraint_name\": \"CompletenessConstraint(Completeness(tip_amount,None))\",\n",
      "      \"column_name\": \"tip_amount\",\n",
      "      \"current_value\": \"Completeness: 1.0\",\n",
      "      \"description\": \"'tip_amount' is not null\",\n",
      "      \"suggesting_rule\": \"CompleteIfCompleteRule()\",\n",
      "      \"rule_description\": \"If a column is complete in the sample, we suggest a NOT NULL constraint\",\n",
      "      \"code_for_constraint\": \".isComplete(\\\"tip_amount\\\")\"\n",
      "    },\n",
      "    {\n",
      "      \"constraint_name\": \"ComplianceConstraint(Compliance('payment_type' has value range '1', '2', '0', '4', '3',`payment_type` IN ('1', '2', '0', '4', '3'),None))\",\n",
      "      \"column_name\": \"payment_type\",\n",
      "      \"current_value\": \"Compliance: 1\",\n",
      "      \"description\": \"'payment_type' has value range '1', '2', '0', '4', '3'\",\n",
      "      \"suggesting_rule\": \"CategoricalRangeRule(com.amazon.deequ.suggestions.rules.CategoricalRangeRule$$$Lambda$5420/1408753468@be05b8f)\",\n",
      "      \"rule_description\": \"If we see a categorical range for a column, we suggest an IS IN (...) constraint\",\n",
      "      \"code_for_constraint\": \".isContainedIn(\\\"payment_type\\\", [\\\"1\\\", \\\"2\\\", \\\"0\\\", \\\"4\\\", \\\"3\\\"])\"\n",
      "    },\n",
      "    {\n",
      "      \"constraint_name\": \"CompletenessConstraint(Completeness(payment_type,None))\",\n",
      "      \"column_name\": \"payment_type\",\n",
      "      \"current_value\": \"Completeness: 1.0\",\n",
      "      \"description\": \"'payment_type' is not null\",\n",
      "      \"suggesting_rule\": \"CompleteIfCompleteRule()\",\n",
      "      \"rule_description\": \"If a column is complete in the sample, we suggest a NOT NULL constraint\",\n",
      "      \"code_for_constraint\": \".isComplete(\\\"payment_type\\\")\"\n",
      "    },\n",
      "    {\n",
      "      \"constraint_name\": \"ComplianceConstraint(Compliance('payment_type' has value range '1', '2' for at least 93.0% of values,`payment_type` IN ('1', '2'),None))\",\n",
      "      \"column_name\": \"payment_type\",\n",
      "      \"current_value\": \"Compliance: 0.9361088043698906\",\n",
      "      \"description\": \"'payment_type' has value range '1', '2' for at least 93.0% of values\",\n",
      "      \"suggesting_rule\": \"FractionalCategoricalRangeRule(0.9,com.amazon.deequ.suggestions.rules.FractionalCategoricalRangeRule$$$Lambda$5421/877307438@4240b7d2)\",\n",
      "      \"rule_description\": \"If we see a categorical range for most values in a column, we suggest an IS IN (...) constraint that should hold for most values\",\n",
      "      \"code_for_constraint\": \".isContainedIn(\\\"payment_type\\\", [\\\"1\\\", \\\"2\\\"], lambda x: x >= 0.93, \\\"It should be above 0.93!\\\")\"\n",
      "    },\n",
      "    {\n",
      "      \"constraint_name\": \"ComplianceConstraint(Compliance('payment_type' has no negative values,payment_type >= 0,None))\",\n",
      "      \"column_name\": \"payment_type\",\n",
      "      \"current_value\": \"Minimum: 0.0\",\n",
      "      \"description\": \"'payment_type' has no negative values\",\n",
      "      \"suggesting_rule\": \"NonNegativeNumbersRule()\",\n",
      "      \"rule_description\": \"If we see only non-negative numbers in a column, we suggest a corresponding constraint\",\n",
      "      \"code_for_constraint\": \".isNonNegative(\\\"payment_type\\\")\"\n",
      "    },\n",
      "    {\n",
      "      \"constraint_name\": \"CompletenessConstraint(Completeness(fare_amount,None))\",\n",
      "      \"column_name\": \"fare_amount\",\n",
      "      \"current_value\": \"Completeness: 1.0\",\n",
      "      \"description\": \"'fare_amount' is not null\",\n",
      "      \"suggesting_rule\": \"CompleteIfCompleteRule()\",\n",
      "      \"rule_description\": \"If a column is complete in the sample, we suggest a NOT NULL constraint\",\n",
      "      \"code_for_constraint\": \".isComplete(\\\"fare_amount\\\")\"\n",
      "    },\n",
      "    {\n",
      "      \"constraint_name\": \"ComplianceConstraint(Compliance('passenger_count' has value range '1', '2', '3', '4', '0', '5', '6', '8', '7', '9',`passenger_count` IN ('1', '2', '3', '4', '0', '5', '6', '8', '7', '9'),None))\",\n",
      "      \"column_name\": \"passenger_count\",\n",
      "      \"current_value\": \"Compliance: 1\",\n",
      "      \"description\": \"'passenger_count' has value range '1', '2', '3', '4', '0', '5', '6', '8', '7', '9'\",\n",
      "      \"suggesting_rule\": \"CategoricalRangeRule(com.amazon.deequ.suggestions.rules.CategoricalRangeRule$$$Lambda$5420/1408753468@be05b8f)\",\n",
      "      \"rule_description\": \"If we see a categorical range for a column, we suggest an IS IN (...) constraint\",\n",
      "      \"code_for_constraint\": \".isContainedIn(\\\"passenger_count\\\", [\\\"1\\\", \\\"2\\\", \\\"3\\\", \\\"4\\\", \\\"0\\\", \\\"5\\\", \\\"6\\\", \\\"8\\\", \\\"7\\\", \\\"9\\\"])\"\n",
      "    },\n",
      "    {\n",
      "      \"constraint_name\": \"ComplianceConstraint(Compliance('passenger_count' has value range '1', '2' for at least 91.0% of values,`passenger_count` IN ('1', '2'),None))\",\n",
      "      \"column_name\": \"passenger_count\",\n",
      "      \"current_value\": \"Compliance: 0.9140220056014775\",\n",
      "      \"description\": \"'passenger_count' has value range '1', '2' for at least 91.0% of values\",\n",
      "      \"suggesting_rule\": \"FractionalCategoricalRangeRule(0.9,com.amazon.deequ.suggestions.rules.FractionalCategoricalRangeRule$$$Lambda$5421/877307438@4240b7d2)\",\n",
      "      \"rule_description\": \"If we see a categorical range for most values in a column, we suggest an IS IN (...) constraint that should hold for most values\",\n",
      "      \"code_for_constraint\": \".isContainedIn(\\\"passenger_count\\\", [\\\"1\\\", \\\"2\\\"], lambda x: x >= 0.91, \\\"It should be above 0.91!\\\")\"\n",
      "    },\n",
      "    {\n",
      "      \"constraint_name\": \"ComplianceConstraint(Compliance('passenger_count' has no negative values,passenger_count >= 0,None))\",\n",
      "      \"column_name\": \"passenger_count\",\n",
      "      \"current_value\": \"Minimum: 0.0\",\n",
      "      \"description\": \"'passenger_count' has no negative values\",\n",
      "      \"suggesting_rule\": \"NonNegativeNumbersRule()\",\n",
      "      \"rule_description\": \"If we see only non-negative numbers in a column, we suggest a corresponding constraint\",\n",
      "      \"code_for_constraint\": \".isNonNegative(\\\"passenger_count\\\")\"\n",
      "    },\n",
      "    {\n",
      "      \"constraint_name\": \"CompletenessConstraint(Completeness(passenger_count,None))\",\n",
      "      \"column_name\": \"passenger_count\",\n",
      "      \"current_value\": \"Completeness: 0.9560146325467701\",\n",
      "      \"description\": \"'passenger_count' has less than 5% missing values\",\n",
      "      \"suggesting_rule\": \"RetainCompletenessRule()\",\n",
      "      \"rule_description\": \"If a column is incomplete in the sample, we model its completeness as a binomial variable, estimate a confidence interval and use this to define a lower bound for the completeness\",\n",
      "      \"code_for_constraint\": \".hasCompleteness(\\\"passenger_count\\\", lambda x: x >= 0.95, \\\"It should be above 0.95!\\\")\"\n",
      "    },\n",
      "    {\n",
      "      \"constraint_name\": \"ComplianceConstraint(Compliance('store_and_fwd_flag' has value range 'N', 'Y',`store_and_fwd_flag` IN ('N', 'Y'),None))\",\n",
      "      \"column_name\": \"store_and_fwd_flag\",\n",
      "      \"current_value\": \"Compliance: 1\",\n",
      "      \"description\": \"'store_and_fwd_flag' has value range 'N', 'Y'\",\n",
      "      \"suggesting_rule\": \"CategoricalRangeRule(com.amazon.deequ.suggestions.rules.CategoricalRangeRule$$$Lambda$5420/1408753468@be05b8f)\",\n",
      "      \"rule_description\": \"If we see a categorical range for a column, we suggest an IS IN (...) constraint\",\n",
      "      \"code_for_constraint\": \".isContainedIn(\\\"store_and_fwd_flag\\\", [\\\"N\\\", \\\"Y\\\"])\"\n",
      "    },\n",
      "    {\n",
      "      \"constraint_name\": \"ComplianceConstraint(Compliance('store_and_fwd_flag' has value range 'N' for at least 94.0% of values,`store_and_fwd_flag` IN ('N'),None))\",\n",
      "      \"column_name\": \"store_and_fwd_flag\",\n",
      "      \"current_value\": \"Compliance: 0.9487574117369832\",\n",
      "      \"description\": \"'store_and_fwd_flag' has value range 'N' for at least 94.0% of values\",\n",
      "      \"suggesting_rule\": \"FractionalCategoricalRangeRule(0.9,com.amazon.deequ.suggestions.rules.FractionalCategoricalRangeRule$$$Lambda$5421/877307438@4240b7d2)\",\n",
      "      \"rule_description\": \"If we see a categorical range for most values in a column, we suggest an IS IN (...) constraint that should hold for most values\",\n",
      "      \"code_for_constraint\": \".isContainedIn(\\\"store_and_fwd_flag\\\", [\\\"N\\\"], lambda x: x >= 0.94, \\\"It should be above 0.94!\\\")\"\n",
      "    },\n",
      "    {\n",
      "      \"constraint_name\": \"CompletenessConstraint(Completeness(store_and_fwd_flag,None))\",\n",
      "      \"column_name\": \"store_and_fwd_flag\",\n",
      "      \"current_value\": \"Completeness: 0.9560146325467701\",\n",
      "      \"description\": \"'store_and_fwd_flag' has less than 5% missing values\",\n",
      "      \"suggesting_rule\": \"RetainCompletenessRule()\",\n",
      "      \"rule_description\": \"If a column is incomplete in the sample, we model its completeness as a binomial variable, estimate a confidence interval and use this to define a lower bound for the completeness\",\n",
      "      \"code_for_constraint\": \".hasCompleteness(\\\"store_and_fwd_flag\\\", lambda x: x >= 0.95, \\\"It should be above 0.95!\\\")\"\n",
      "    },\n",
      "    {\n",
      "      \"constraint_name\": \"CompletenessConstraint(Completeness(extra,None))\",\n",
      "      \"column_name\": \"extra\",\n",
      "      \"current_value\": \"Completeness: 1.0\",\n",
      "      \"description\": \"'extra' is not null\",\n",
      "      \"suggesting_rule\": \"CompleteIfCompleteRule()\",\n",
      "      \"rule_description\": \"If a column is complete in the sample, we suggest a NOT NULL constraint\",\n",
      "      \"code_for_constraint\": \".isComplete(\\\"extra\\\")\"\n",
      "    },\n",
      "    {\n",
      "      \"constraint_name\": \"CompletenessConstraint(Completeness(congestion_surcharge,None))\",\n",
      "      \"column_name\": \"congestion_surcharge\",\n",
      "      \"current_value\": \"Completeness: 0.9560146325467701\",\n",
      "      \"description\": \"'congestion_surcharge' has less than 5% missing values\",\n",
      "      \"suggesting_rule\": \"RetainCompletenessRule()\",\n",
      "      \"rule_description\": \"If a column is incomplete in the sample, we model its completeness as a binomial variable, estimate a confidence interval and use this to define a lower bound for the completeness\",\n",
      "      \"code_for_constraint\": \".hasCompleteness(\\\"congestion_surcharge\\\", lambda x: x >= 0.95, \\\"It should be above 0.95!\\\")\"\n",
      "    },\n",
      "    {\n",
      "      \"constraint_name\": \"CompletenessConstraint(Completeness(total_amount,None))\",\n",
      "      \"column_name\": \"total_amount\",\n",
      "      \"current_value\": \"Completeness: 1.0\",\n",
      "      \"description\": \"'total_amount' is not null\",\n",
      "      \"suggesting_rule\": \"CompleteIfCompleteRule()\",\n",
      "      \"rule_description\": \"If a column is complete in the sample, we suggest a NOT NULL constraint\",\n",
      "      \"code_for_constraint\": \".isComplete(\\\"total_amount\\\")\"\n",
      "    },\n",
      "    {\n",
      "      \"constraint_name\": \"CompletenessConstraint(Completeness(tpep_pickup_datetime,None))\",\n",
      "      \"column_name\": \"tpep_pickup_datetime\",\n",
      "      \"current_value\": \"Completeness: 1.0\",\n",
      "      \"description\": \"'tpep_pickup_datetime' is not null\",\n",
      "      \"suggesting_rule\": \"CompleteIfCompleteRule()\",\n",
      "      \"rule_description\": \"If a column is complete in the sample, we suggest a NOT NULL constraint\",\n",
      "      \"code_for_constraint\": \".isComplete(\\\"tpep_pickup_datetime\\\")\"\n",
      "    },\n",
      "    {\n",
      "      \"constraint_name\": \"CompletenessConstraint(Completeness(mta_tax,None))\",\n",
      "      \"column_name\": \"mta_tax\",\n",
      "      \"current_value\": \"Completeness: 1.0\",\n",
      "      \"description\": \"'mta_tax' is not null\",\n",
      "      \"suggesting_rule\": \"CompleteIfCompleteRule()\",\n",
      "      \"rule_description\": \"If a column is complete in the sample, we suggest a NOT NULL constraint\",\n",
      "      \"code_for_constraint\": \".isComplete(\\\"mta_tax\\\")\"\n",
      "    }\n",
      "  ]\n",
      "}"
     ]
    }
   ],
   "source": [
    "from pydeequ.suggestions import ConstraintSuggestionRunner, DEFAULT\n",
    "import json\n",
    "\n",
    "suggestionResult = ConstraintSuggestionRunner(spark) \\\n",
    "             .onData(yellow_df) \\\n",
    "             .addConstraintRule(DEFAULT()) \\\n",
    "             .run()\n",
    "\n",
    "# Constraint Suggestions in JSON format\n",
    "print(json.dumps(suggestionResult, indent=2))"
   ]
  },
  {
   "cell_type": "code",
   "execution_count": 14,
   "id": "fbf2a8cb-2b50-4838-801f-4f4292f77d21",
   "metadata": {
    "execution": {
     "iopub.execute_input": "2023-12-23T12:09:58.674382Z",
     "iopub.status.busy": "2023-12-23T12:09:58.674025Z",
     "iopub.status.idle": "2023-12-23T12:10:32.085474Z",
     "shell.execute_reply": "2023-12-23T12:10:32.084419Z",
     "shell.execute_reply.started": "2023-12-23T12:09:58.674350Z"
    },
    "tags": []
   },
   "outputs": [
    {
     "data": {
      "application/vnd.jupyter.widget-view+json": {
       "model_id": "34ae53c56bb042969c3ce333417f7dd2",
       "version_major": 2,
       "version_minor": 0
      },
      "text/plain": [
       "VBox()"
      ]
     },
     "metadata": {},
     "output_type": "display_data"
    },
    {
     "data": {
      "application/vnd.jupyter.widget-view+json": {
       "model_id": "",
       "version_major": 2,
       "version_minor": 0
      },
      "text/plain": [
       "FloatProgress(value=0.0, bar_style='info', description='Progress:', layout=Layout(height='25px', width='50%'),…"
      ]
     },
     "metadata": {},
     "output_type": "display_data"
    },
    {
     "name": "stdout",
     "output_type": "stream",
     "text": [
      "{\n",
      "  \"constraint_suggestions\": [\n",
      "    {\n",
      "      \"constraint_name\": \"ComplianceConstraint(Compliance('DOLocationID' has no negative values,DOLocationID >= 0,None))\",\n",
      "      \"column_name\": \"DOLocationID\",\n",
      "      \"current_value\": \"Minimum: 1.0\",\n",
      "      \"description\": \"'DOLocationID' has no negative values\",\n",
      "      \"suggesting_rule\": \"NonNegativeNumbersRule()\",\n",
      "      \"rule_description\": \"If we see only non-negative numbers in a column, we suggest a corresponding constraint\",\n",
      "      \"code_for_constraint\": \".isNonNegative(\\\"DOLocationID\\\")\"\n",
      "    },\n",
      "    {\n",
      "      \"constraint_name\": \"ComplianceConstraint(Compliance('PULocationID' has no negative values,PULocationID >= 0,None))\",\n",
      "      \"column_name\": \"PULocationID\",\n",
      "      \"current_value\": \"Minimum: 1.0\",\n",
      "      \"description\": \"'PULocationID' has no negative values\",\n",
      "      \"suggesting_rule\": \"NonNegativeNumbersRule()\",\n",
      "      \"rule_description\": \"If we see only non-negative numbers in a column, we suggest a corresponding constraint\",\n",
      "      \"code_for_constraint\": \".isNonNegative(\\\"PULocationID\\\")\"\n",
      "    },\n",
      "    {\n",
      "      \"constraint_name\": \"ComplianceConstraint(Compliance('trip_distance' has no negative values,trip_distance >= 0,None))\",\n",
      "      \"column_name\": \"trip_distance\",\n",
      "      \"current_value\": \"Minimum: 0.0\",\n",
      "      \"description\": \"'trip_distance' has no negative values\",\n",
      "      \"suggesting_rule\": \"NonNegativeNumbersRule()\",\n",
      "      \"rule_description\": \"If we see only non-negative numbers in a column, we suggest a corresponding constraint\",\n",
      "      \"code_for_constraint\": \".isNonNegative(\\\"trip_distance\\\")\"\n",
      "    },\n",
      "    {\n",
      "      \"constraint_name\": \"CompletenessConstraint(Completeness(Airport_fee,None))\",\n",
      "      \"column_name\": \"Airport_fee\",\n",
      "      \"current_value\": \"Completeness: 0.9560146325467701\",\n",
      "      \"description\": \"'Airport_fee' has less than 5% missing values\",\n",
      "      \"suggesting_rule\": \"RetainCompletenessRule()\",\n",
      "      \"rule_description\": \"If a column is incomplete in the sample, we model its completeness as a binomial variable, estimate a confidence interval and use this to define a lower bound for the completeness\",\n",
      "      \"code_for_constraint\": \".hasCompleteness(\\\"Airport_fee\\\", lambda x: x >= 0.95, \\\"It should be above 0.95!\\\")\"\n",
      "    },\n",
      "    {\n",
      "      \"constraint_name\": \"ComplianceConstraint(Compliance('RatecodeID' has no negative values,RatecodeID >= 0,None))\",\n",
      "      \"column_name\": \"RatecodeID\",\n",
      "      \"current_value\": \"Minimum: 1.0\",\n",
      "      \"description\": \"'RatecodeID' has no negative values\",\n",
      "      \"suggesting_rule\": \"NonNegativeNumbersRule()\",\n",
      "      \"rule_description\": \"If we see only non-negative numbers in a column, we suggest a corresponding constraint\",\n",
      "      \"code_for_constraint\": \".isNonNegative(\\\"RatecodeID\\\")\"\n",
      "    },\n",
      "    {\n",
      "      \"constraint_name\": \"CompletenessConstraint(Completeness(RatecodeID,None))\",\n",
      "      \"column_name\": \"RatecodeID\",\n",
      "      \"current_value\": \"Completeness: 0.9560146325467701\",\n",
      "      \"description\": \"'RatecodeID' has less than 5% missing values\",\n",
      "      \"suggesting_rule\": \"RetainCompletenessRule()\",\n",
      "      \"rule_description\": \"If a column is incomplete in the sample, we model its completeness as a binomial variable, estimate a confidence interval and use this to define a lower bound for the completeness\",\n",
      "      \"code_for_constraint\": \".hasCompleteness(\\\"RatecodeID\\\", lambda x: x >= 0.95, \\\"It should be above 0.95!\\\")\"\n",
      "    },\n",
      "    {\n",
      "      \"constraint_name\": \"ComplianceConstraint(Compliance('VendorID' has no negative values,VendorID >= 0,None))\",\n",
      "      \"column_name\": \"VendorID\",\n",
      "      \"current_value\": \"Minimum: 1.0\",\n",
      "      \"description\": \"'VendorID' has no negative values\",\n",
      "      \"suggesting_rule\": \"NonNegativeNumbersRule()\",\n",
      "      \"rule_description\": \"If we see only non-negative numbers in a column, we suggest a corresponding constraint\",\n",
      "      \"code_for_constraint\": \".isNonNegative(\\\"VendorID\\\")\"\n",
      "    },\n",
      "    {\n",
      "      \"constraint_name\": \"ComplianceConstraint(Compliance('payment_type' has no negative values,payment_type >= 0,None))\",\n",
      "      \"column_name\": \"payment_type\",\n",
      "      \"current_value\": \"Minimum: 0.0\",\n",
      "      \"description\": \"'payment_type' has no negative values\",\n",
      "      \"suggesting_rule\": \"NonNegativeNumbersRule()\",\n",
      "      \"rule_description\": \"If we see only non-negative numbers in a column, we suggest a corresponding constraint\",\n",
      "      \"code_for_constraint\": \".isNonNegative(\\\"payment_type\\\")\"\n",
      "    },\n",
      "    {\n",
      "      \"constraint_name\": \"ComplianceConstraint(Compliance('passenger_count' has no negative values,passenger_count >= 0,None))\",\n",
      "      \"column_name\": \"passenger_count\",\n",
      "      \"current_value\": \"Minimum: 0.0\",\n",
      "      \"description\": \"'passenger_count' has no negative values\",\n",
      "      \"suggesting_rule\": \"NonNegativeNumbersRule()\",\n",
      "      \"rule_description\": \"If we see only non-negative numbers in a column, we suggest a corresponding constraint\",\n",
      "      \"code_for_constraint\": \".isNonNegative(\\\"passenger_count\\\")\"\n",
      "    },\n",
      "    {\n",
      "      \"constraint_name\": \"CompletenessConstraint(Completeness(passenger_count,None))\",\n",
      "      \"column_name\": \"passenger_count\",\n",
      "      \"current_value\": \"Completeness: 0.9560146325467701\",\n",
      "      \"description\": \"'passenger_count' has less than 5% missing values\",\n",
      "      \"suggesting_rule\": \"RetainCompletenessRule()\",\n",
      "      \"rule_description\": \"If a column is incomplete in the sample, we model its completeness as a binomial variable, estimate a confidence interval and use this to define a lower bound for the completeness\",\n",
      "      \"code_for_constraint\": \".hasCompleteness(\\\"passenger_count\\\", lambda x: x >= 0.95, \\\"It should be above 0.95!\\\")\"\n",
      "    },\n",
      "    {\n",
      "      \"constraint_name\": \"CompletenessConstraint(Completeness(store_and_fwd_flag,None))\",\n",
      "      \"column_name\": \"store_and_fwd_flag\",\n",
      "      \"current_value\": \"Completeness: 0.9560146325467701\",\n",
      "      \"description\": \"'store_and_fwd_flag' has less than 5% missing values\",\n",
      "      \"suggesting_rule\": \"RetainCompletenessRule()\",\n",
      "      \"rule_description\": \"If a column is incomplete in the sample, we model its completeness as a binomial variable, estimate a confidence interval and use this to define a lower bound for the completeness\",\n",
      "      \"code_for_constraint\": \".hasCompleteness(\\\"store_and_fwd_flag\\\", lambda x: x >= 0.95, \\\"It should be above 0.95!\\\")\"\n",
      "    },\n",
      "    {\n",
      "      \"constraint_name\": \"CompletenessConstraint(Completeness(congestion_surcharge,None))\",\n",
      "      \"column_name\": \"congestion_surcharge\",\n",
      "      \"current_value\": \"Completeness: 0.9560146325467701\",\n",
      "      \"description\": \"'congestion_surcharge' has less than 5% missing values\",\n",
      "      \"suggesting_rule\": \"RetainCompletenessRule()\",\n",
      "      \"rule_description\": \"If a column is incomplete in the sample, we model its completeness as a binomial variable, estimate a confidence interval and use this to define a lower bound for the completeness\",\n",
      "      \"code_for_constraint\": \".hasCompleteness(\\\"congestion_surcharge\\\", lambda x: x >= 0.95, \\\"It should be above 0.95!\\\")\"\n",
      "    }\n",
      "  ]\n",
      "}"
     ]
    }
   ],
   "source": [
    "from pydeequ.suggestions import ConstraintSuggestionRunner, NonNegativeNumbersRule, RetainTypeRule, RetainCompletenessRule\n",
    "# Running specific suggestion rules, helps in knowing if a particular rule is suggested or not and how it can actually be implemented. \n",
    "# Check Airport_fee > RetainCompletenessRule()\n",
    "specific_suggestion_result = ConstraintSuggestionRunner(spark) \\\n",
    "             .onData(yellow_df) \\\n",
    "             .addConstraintRule(NonNegativeNumbersRule()) \\\n",
    "             .addConstraintRule(RetainTypeRule()) \\\n",
    "             .addConstraintRule(RetainCompletenessRule()) \\\n",
    "             .run()\n",
    "\n",
    "# Constraint Suggestions in JSON format\n",
    "print(json.dumps(specific_suggestion_result, indent=2))"
   ]
  },
  {
   "cell_type": "markdown",
   "id": "faf119ee-2207-42c4-b0f8-5bd5b46b7bbb",
   "metadata": {},
   "source": [
    "## Constraint Verification"
   ]
  },
  {
   "cell_type": "code",
   "execution_count": 15,
   "id": "9b833950-1328-4984-9ff2-3537fd651ae1",
   "metadata": {
    "execution": {
     "iopub.execute_input": "2023-12-23T12:12:30.024788Z",
     "iopub.status.busy": "2023-12-23T12:12:30.024408Z",
     "iopub.status.idle": "2023-12-23T12:12:30.590515Z",
     "shell.execute_reply": "2023-12-23T12:12:30.572378Z",
     "shell.execute_reply.started": "2023-12-23T12:12:30.024756Z"
    }
   },
   "outputs": [
    {
     "data": {
      "application/vnd.jupyter.widget-view+json": {
       "model_id": "f0e414297cea4f79a6f1afbae7f8bf88",
       "version_major": 2,
       "version_minor": 0
      },
      "text/plain": [
       "VBox()"
      ]
     },
     "metadata": {},
     "output_type": "display_data"
    },
    {
     "data": {
      "application/vnd.jupyter.widget-view+json": {
       "model_id": "",
       "version_major": 2,
       "version_minor": 0
      },
      "text/plain": [
       "FloatProgress(value=0.0, bar_style='info', description='Progress:', layout=Layout(height='25px', width='50%'),…"
      ]
     },
     "metadata": {},
     "output_type": "display_data"
    }
   ],
   "source": [
    "from pyspark.sql.functions import col, monotonically_increasing_id\n",
    "\n",
    "# Adding a column gen_id to check the rules around uniqueness and column combination uniqueness in Pydeequ\n",
    "sample_df = yellow_df.withColumn(\"gen_id\", monotonically_increasing_id())"
   ]
  },
  {
   "cell_type": "code",
   "execution_count": 16,
   "id": "8129d324-4ba1-452e-9321-0846d0e0983d",
   "metadata": {
    "execution": {
     "iopub.execute_input": "2023-12-23T12:12:54.201530Z",
     "iopub.status.busy": "2023-12-23T12:12:54.201162Z",
     "iopub.status.idle": "2023-12-23T12:13:11.554385Z",
     "shell.execute_reply": "2023-12-23T12:13:11.553431Z",
     "shell.execute_reply.started": "2023-12-23T12:12:54.201499Z"
    }
   },
   "outputs": [
    {
     "data": {
      "application/vnd.jupyter.widget-view+json": {
       "model_id": "e0e5d78c05db43b5b70652ad9c4772f8",
       "version_major": 2,
       "version_minor": 0
      },
      "text/plain": [
       "VBox()"
      ]
     },
     "metadata": {},
     "output_type": "display_data"
    },
    {
     "data": {
      "application/vnd.jupyter.widget-view+json": {
       "model_id": "",
       "version_major": 2,
       "version_minor": 0
      },
      "text/plain": [
       "FloatProgress(value=0.0, bar_style='info', description='Progress:', layout=Layout(height='25px', width='50%'),…"
      ]
     },
     "metadata": {},
     "output_type": "display_data"
    },
    {
     "name": "stdout",
     "output_type": "stream",
     "text": [
      "Verification Run Status: Warning"
     ]
    }
   ],
   "source": [
    "from pydeequ.checks import *\n",
    "from pydeequ.verification import *\n",
    "\n",
    "# Check represents a list of constraints that can be applied to a provided Spark Dataframe\n",
    "check = Check(spark, CheckLevel.Warning, \"NYC Yellow Taxi Trips Oct 2023\")\n",
    "\n",
    "checkResult = VerificationSuite(spark) \\\n",
    "    .onData(sample_df) \\\n",
    "    .addCheck(\n",
    "        check.isComplete(\"VendorID\")  \\\n",
    "        .isUnique(\"gen_id\")  \\\n",
    "        .hasUniqueness([\"VendorID\", \"gen_id\"], assertion=lambda x: x==1) \\\n",
    "        .hasCompleteness(\"Airport_fee\", assertion=lambda x: x >= 0.95) \\\n",
    "        .isNonNegative(\"fare_amount\")) \\\n",
    "    .run()\n",
    "\n",
    "print(f\"Verification Run Status: {checkResult.status}\")\n",
    "\n",
    "# Checking the results of the verification\n",
    "checkResult_df = VerificationResult.checkResultsAsDataFrame(spark, checkResult)"
   ]
  },
  {
   "cell_type": "code",
   "execution_count": 17,
   "id": "7c61a992-c92f-4938-8685-92af9bf35f8e",
   "metadata": {
    "execution": {
     "iopub.execute_input": "2023-12-23T12:13:15.164305Z",
     "iopub.status.busy": "2023-12-23T12:13:15.163950Z",
     "iopub.status.idle": "2023-12-23T12:13:18.597555Z",
     "shell.execute_reply": "2023-12-23T12:13:18.596421Z",
     "shell.execute_reply.started": "2023-12-23T12:13:15.164273Z"
    }
   },
   "outputs": [
    {
     "data": {
      "application/vnd.jupyter.widget-view+json": {
       "model_id": "",
       "version_major": 2,
       "version_minor": 0
      },
      "text/plain": [
       "FloatProgress(value=0.0, bar_style='info', description='Progress:', layout=Layout(height='25px', width='50%'),…"
      ]
     },
     "metadata": {},
     "output_type": "display_data"
    },
    {
     "data": {
      "text/html": [
       "<style>.jp-OutputArea-child .jupyter-widgets.jp-OutputArea-output { overflow: auto; }</style>"
      ],
      "text/plain": [
       "<IPython.core.display.HTML object>"
      ]
     },
     "metadata": {},
     "output_type": "display_data"
    },
    {
     "data": {
      "application/vnd.jupyter.widget-view+json": {
       "model_id": "9d1d541606f44bae88ca12159b6b0cd7",
       "version_major": 2,
       "version_minor": 0
      },
      "text/plain": [
       "VBox(children=(HBox(children=(HTML(value='Type:'), Button(description='Table', layout=Layout(width='70px'), st…"
      ]
     },
     "metadata": {},
     "output_type": "display_data"
    },
    {
     "data": {
      "application/vnd.jupyter.widget-view+json": {
       "model_id": "67550697cb304566a7547d186493fc94",
       "version_major": 2,
       "version_minor": 0
      },
      "text/plain": [
       "Output()"
      ]
     },
     "metadata": {},
     "output_type": "display_data"
    }
   ],
   "source": [
    "%%display\n",
    "checkResult_df"
   ]
  },
  {
   "cell_type": "markdown",
   "id": "e4d3f0a0-9a22-446e-81f9-e5500eba2753",
   "metadata": {
    "execution": {
     "iopub.execute_input": "2023-12-23T12:17:18.759573Z",
     "iopub.status.busy": "2023-12-23T12:17:18.759209Z",
     "iopub.status.idle": "2023-12-23T12:17:18.824873Z",
     "shell.execute_reply": "2023-12-23T12:17:18.823243Z",
     "shell.execute_reply.started": "2023-12-23T12:17:18.759540Z"
    }
   },
   "source": [
    "## Metrics Repositories"
   ]
  },
  {
   "cell_type": "code",
   "execution_count": null,
   "id": "e42288ac-9dc4-4f21-838d-96a572298231",
   "metadata": {
    "execution": {
     "iopub.execute_input": "2023-12-23T12:32:14.399536Z",
     "iopub.status.busy": "2023-12-23T12:32:14.399182Z",
     "iopub.status.idle": "2023-12-23T12:32:14.657282Z",
     "shell.execute_reply": "2023-12-23T12:32:14.656403Z",
     "shell.execute_reply.started": "2023-12-23T12:32:14.399505Z"
    },
    "tags": []
   },
   "outputs": [],
   "source": [
    "# Initializing Metrics Repository: FileSystemMetricsRepository. Other Repositories are InMemoryMetricsRepository\n",
    "from pydeequ.repository import FileSystemMetricsRepository, ResultKey\n",
    "\n",
    "# path to metrics file can be an S3 path or HDFS path.\n",
    "metrics_file = \"s3://{bucket_name}/nyc_tlc/pydeequ_metrics/ny_yellow_metrics.json\"\n",
    "\n",
    "nyc_yellow_repository = FileSystemMetricsRepository(spark, path = metrics_file)\n",
    "print(metrics_file)"
   ]
  },
  {
   "cell_type": "code",
   "execution_count": 35,
   "id": "e0b2a7ef-2e14-4f4d-a891-b8c4eb314796",
   "metadata": {
    "execution": {
     "iopub.execute_input": "2023-12-23T12:32:29.969942Z",
     "iopub.status.busy": "2023-12-23T12:32:29.969586Z",
     "iopub.status.idle": "2023-12-23T12:32:31.201293Z",
     "shell.execute_reply": "2023-12-23T12:32:31.190017Z",
     "shell.execute_reply.started": "2023-12-23T12:32:29.969909Z"
    },
    "tags": []
   },
   "outputs": [
    {
     "data": {
      "application/vnd.jupyter.widget-view+json": {
       "model_id": "75d12148c09c48969695014c312f1ee9",
       "version_major": 2,
       "version_minor": 0
      },
      "text/plain": [
       "VBox()"
      ]
     },
     "metadata": {},
     "output_type": "display_data"
    },
    {
     "data": {
      "application/vnd.jupyter.widget-view+json": {
       "model_id": "",
       "version_major": 2,
       "version_minor": 0
      },
      "text/plain": [
       "FloatProgress(value=0.0, bar_style='info', description='Progress:', layout=Layout(height='25px', width='50%'),…"
      ]
     },
     "metadata": {},
     "output_type": "display_data"
    }
   ],
   "source": [
    "# This tag will uniquely identify the Analysis result\n",
    "key_tags = {\"tag\": \"nyc_yellow_oct_2023\"}\n",
    "resultKey = ResultKey(spark, ResultKey.current_milli_time(), key_tags)\n",
    "\n",
    "verify_key_tag = {\"tag\": \"verify_nyc_yellow_oct_2023\"}\n",
    "verify_resultKey = ResultKey(spark, ResultKey.current_milli_time(), verify_key_tag)"
   ]
  },
  {
   "cell_type": "code",
   "execution_count": 37,
   "id": "06b48825-50a3-4a18-8128-7cb4a51156b8",
   "metadata": {
    "execution": {
     "iopub.execute_input": "2023-12-23T12:59:07.541068Z",
     "iopub.status.busy": "2023-12-23T12:59:07.540703Z",
     "iopub.status.idle": "2023-12-23T12:59:22.892333Z",
     "shell.execute_reply": "2023-12-23T12:59:22.891472Z",
     "shell.execute_reply.started": "2023-12-23T12:59:07.541035Z"
    },
    "tags": []
   },
   "outputs": [
    {
     "data": {
      "application/vnd.jupyter.widget-view+json": {
       "model_id": "d0decebf7353412c8a534dd83ae42584",
       "version_major": 2,
       "version_minor": 0
      },
      "text/plain": [
       "VBox()"
      ]
     },
     "metadata": {},
     "output_type": "display_data"
    },
    {
     "data": {
      "application/vnd.jupyter.widget-view+json": {
       "model_id": "",
       "version_major": 2,
       "version_minor": 0
      },
      "text/plain": [
       "FloatProgress(value=0.0, bar_style='info', description='Progress:', layout=Layout(height='25px', width='50%'),…"
      ]
     },
     "metadata": {},
     "output_type": "display_data"
    },
    {
     "name": "stdout",
     "output_type": "stream",
     "text": [
      "+-----------+---------------+------------+--------------------+\n",
      "|     entity|       instance|        name|               value|\n",
      "+-----------+---------------+------------+--------------------+\n",
      "|     Column|   total_amount|         Sum|1.0274988166003421E8|\n",
      "|     Column|       VendorID|Distinctness|8.517198352773839E-7|\n",
      "|     Column|  trip_distance|        Mean|  3.9266949863509617|\n",
      "|    Dataset|              *|        Size|           3522285.0|\n",
      "|     Column|   payment_type|  Compliance|  0.9560146325467701|\n",
      "|     Column|       VendorID|Completeness|                 1.0|\n",
      "|Mutlicolumn|VendorID,gen_id|  Uniqueness|                 1.0|\n",
      "|     Column|          extra|     Maximum|               17.25|\n",
      "+-----------+---------------+------------+--------------------+"
     ]
    }
   ],
   "source": [
    "# using .useRepository and saveOrAppendResult for saving results in metrics.json file\n",
    "analysisResult = AnalysisRunner(spark) \\\n",
    "                    .onData(sample_df) \\\n",
    "                    .addAnalyzer(Size()) \\\n",
    "                    .addAnalyzer(Completeness(\"VendorID\")) \\\n",
    "                    .addAnalyzer(Distinctness(\"VendorID\")) \\\n",
    "                    .addAnalyzer(Uniqueness([\"VendorID\", \"gen_id\"])) \\\n",
    "                    .addAnalyzer(Compliance(\"payment_type\", \"payment_type in (1,2,3,4,5,6)\")) \\\n",
    "                    .addAnalyzer(Mean(\"trip_distance\")) \\\n",
    "                    .addAnalyzer(Sum(\"total_amount\")) \\\n",
    "                    .addAnalyzer(Maximum(\"extra\")) \\\n",
    "                    .useRepository(nyc_yellow_repository) \\\n",
    "                    .saveOrAppendResult(resultKey) \\\n",
    "                    .run()\n",
    "                    \n",
    "analysisResult_df = AnalyzerContext.successMetricsAsDataFrame(spark, analysisResult)\n",
    "analysisResult_df.show()"
   ]
  },
  {
   "cell_type": "code",
   "execution_count": 39,
   "id": "7b424620-5c8a-4b7a-8c2a-608ab3964586",
   "metadata": {
    "execution": {
     "iopub.execute_input": "2023-12-23T13:00:37.265461Z",
     "iopub.status.busy": "2023-12-23T13:00:37.265175Z",
     "iopub.status.idle": "2023-12-23T13:00:40.657642Z",
     "shell.execute_reply": "2023-12-23T13:00:40.656769Z",
     "shell.execute_reply.started": "2023-12-23T13:00:37.265431Z"
    }
   },
   "outputs": [
    {
     "data": {
      "application/vnd.jupyter.widget-view+json": {
       "model_id": "",
       "version_major": 2,
       "version_minor": 0
      },
      "text/plain": [
       "FloatProgress(value=0.0, bar_style='info', description='Progress:', layout=Layout(height='25px', width='50%'),…"
      ]
     },
     "metadata": {},
     "output_type": "display_data"
    },
    {
     "data": {
      "text/html": [
       "<style>.jp-OutputArea-child .jupyter-widgets.jp-OutputArea-output { overflow: auto; }</style>"
      ],
      "text/plain": [
       "<IPython.core.display.HTML object>"
      ]
     },
     "metadata": {},
     "output_type": "display_data"
    },
    {
     "data": {
      "application/vnd.jupyter.widget-view+json": {
       "model_id": "e779e239256c429db7a1494a24daf879",
       "version_major": 2,
       "version_minor": 0
      },
      "text/plain": [
       "VBox(children=(HBox(children=(HTML(value='Type:'), Button(description='Table', layout=Layout(width='70px'), st…"
      ]
     },
     "metadata": {},
     "output_type": "display_data"
    },
    {
     "data": {
      "application/vnd.jupyter.widget-view+json": {
       "model_id": "e4f421eeb2cd4bae832a51b232f61d1e",
       "version_major": 2,
       "version_minor": 0
      },
      "text/plain": [
       "Output()"
      ]
     },
     "metadata": {},
     "output_type": "display_data"
    }
   ],
   "source": [
    "%%display\n",
    "analysisResult_df"
   ]
  },
  {
   "cell_type": "code",
   "execution_count": 38,
   "id": "9a242056-caff-455d-948d-c569667dfb09",
   "metadata": {
    "execution": {
     "iopub.execute_input": "2023-12-23T13:00:21.459992Z",
     "iopub.status.busy": "2023-12-23T13:00:21.459598Z",
     "iopub.status.idle": "2023-12-23T13:00:37.263144Z",
     "shell.execute_reply": "2023-12-23T13:00:37.261690Z",
     "shell.execute_reply.started": "2023-12-23T13:00:21.459958Z"
    },
    "tags": []
   },
   "outputs": [
    {
     "data": {
      "application/vnd.jupyter.widget-view+json": {
       "model_id": "3e8818b476554e7ebfe257799e03e6ea",
       "version_major": 2,
       "version_minor": 0
      },
      "text/plain": [
       "VBox()"
      ]
     },
     "metadata": {},
     "output_type": "display_data"
    },
    {
     "data": {
      "application/vnd.jupyter.widget-view+json": {
       "model_id": "",
       "version_major": 2,
       "version_minor": 0
      },
      "text/plain": [
       "FloatProgress(value=0.0, bar_style='info', description='Progress:', layout=Layout(height='25px', width='50%'),…"
      ]
     },
     "metadata": {},
     "output_type": "display_data"
    },
    {
     "name": "stdout",
     "output_type": "stream",
     "text": [
      "Verification Run Status: Warning\n",
      "+--------------------+-----------+------------+--------------------+-----------------+--------------------+\n",
      "|               check|check_level|check_status|          constraint|constraint_status|  constraint_message|\n",
      "+--------------------+-----------+------------+--------------------+-----------------+--------------------+\n",
      "|NYC Yellow Taxi T...|    Warning|     Warning|CompletenessConst...|          Success|                    |\n",
      "|NYC Yellow Taxi T...|    Warning|     Warning|UniquenessConstra...|          Success|                    |\n",
      "|NYC Yellow Taxi T...|    Warning|     Warning|UniquenessConstra...|          Success|                    |\n",
      "|NYC Yellow Taxi T...|    Warning|     Warning|CompletenessConst...|          Success|                    |\n",
      "|NYC Yellow Taxi T...|    Warning|     Warning|ComplianceConstra...|          Failure|Value: 0.98946706...|\n",
      "|NYC Yellow Taxi T...|    Warning|     Warning|CompletenessConst...|          Success|                    |\n",
      "|NYC Yellow Taxi T...|    Warning|     Warning|UniquenessConstra...|          Success|                    |\n",
      "|NYC Yellow Taxi T...|    Warning|     Warning|UniquenessConstra...|          Success|                    |\n",
      "|NYC Yellow Taxi T...|    Warning|     Warning|CompletenessConst...|          Success|                    |\n",
      "|NYC Yellow Taxi T...|    Warning|     Warning|ComplianceConstra...|          Failure|Value: 0.98946706...|\n",
      "+--------------------+-----------+------------+--------------------+-----------------+--------------------+"
     ]
    }
   ],
   "source": [
    "checkResult = VerificationSuite(spark) \\\n",
    "    .onData(sample_df) \\\n",
    "    .addCheck(\n",
    "        check.isComplete(\"VendorID\")  \\\n",
    "        .isUnique(\"gen_id\")  \\\n",
    "        .hasUniqueness([\"VendorID\", \"gen_id\"], assertion=lambda x: x==1) \\\n",
    "        .hasCompleteness(\"Airport_fee\", assertion=lambda x: x >= 0.95) \\\n",
    "        .isNonNegative(\"fare_amount\")) \\\n",
    "        .useRepository(nyc_yellow_repository) \\\n",
    "        .saveOrAppendResult(verify_resultKey) \\\n",
    "    .run()\n",
    "\n",
    "print(f\"Verification Run Status: {checkResult.status}\")\n",
    "checkResult_df = VerificationResult.checkResultsAsDataFrame(spark, checkResult)\n",
    "checkResult_df.show()"
   ]
  },
  {
   "cell_type": "code",
   "execution_count": 40,
   "id": "5ba05c7a-6cdd-44a9-8f59-620b734a4b86",
   "metadata": {
    "execution": {
     "iopub.execute_input": "2023-12-23T13:02:15.568041Z",
     "iopub.status.busy": "2023-12-23T13:02:15.567687Z",
     "iopub.status.idle": "2023-12-23T13:02:24.974772Z",
     "shell.execute_reply": "2023-12-23T13:02:24.973918Z",
     "shell.execute_reply.started": "2023-12-23T13:02:15.568009Z"
    }
   },
   "outputs": [
    {
     "data": {
      "application/vnd.jupyter.widget-view+json": {
       "model_id": "",
       "version_major": 2,
       "version_minor": 0
      },
      "text/plain": [
       "FloatProgress(value=0.0, bar_style='info', description='Progress:', layout=Layout(height='25px', width='50%'),…"
      ]
     },
     "metadata": {},
     "output_type": "display_data"
    },
    {
     "data": {
      "text/html": [
       "<style>.jp-OutputArea-child .jupyter-widgets.jp-OutputArea-output { overflow: auto; }</style>"
      ],
      "text/plain": [
       "<IPython.core.display.HTML object>"
      ]
     },
     "metadata": {},
     "output_type": "display_data"
    },
    {
     "data": {
      "application/vnd.jupyter.widget-view+json": {
       "model_id": "470af2cfdc44438c9418c96e43a29866",
       "version_major": 2,
       "version_minor": 0
      },
      "text/plain": [
       "VBox(children=(HBox(children=(HTML(value='Type:'), Button(description='Table', layout=Layout(width='70px'), st…"
      ]
     },
     "metadata": {},
     "output_type": "display_data"
    },
    {
     "data": {
      "application/vnd.jupyter.widget-view+json": {
       "model_id": "71cc5e0e6c0e458ea5ee9500af523cbd",
       "version_major": 2,
       "version_minor": 0
      },
      "text/plain": [
       "Output()"
      ]
     },
     "metadata": {},
     "output_type": "display_data"
    }
   ],
   "source": [
    "%%display\n",
    "checkResult_df"
   ]
  },
  {
   "cell_type": "markdown",
   "id": "b8d26983-d314-488a-8fad-dea96bf96c35",
   "metadata": {},
   "source": [
    "### Reading metrics from Metrics Repository"
   ]
  },
  {
   "cell_type": "code",
   "execution_count": 42,
   "id": "76d783ac-6dc2-4969-a709-e48486e3cc58",
   "metadata": {
    "execution": {
     "iopub.execute_input": "2023-12-23T13:03:40.751911Z",
     "iopub.status.busy": "2023-12-23T13:03:40.751549Z",
     "iopub.status.idle": "2023-12-23T13:03:48.386882Z",
     "shell.execute_reply": "2023-12-23T13:03:48.385681Z",
     "shell.execute_reply.started": "2023-12-23T13:03:40.751879Z"
    }
   },
   "outputs": [
    {
     "data": {
      "application/vnd.jupyter.widget-view+json": {
       "model_id": "928f84624f964121ad529c85c33bbfc9",
       "version_major": 2,
       "version_minor": 0
      },
      "text/plain": [
       "VBox()"
      ]
     },
     "metadata": {},
     "output_type": "display_data"
    },
    {
     "data": {
      "application/vnd.jupyter.widget-view+json": {
       "model_id": "",
       "version_major": 2,
       "version_minor": 0
      },
      "text/plain": [
       "FloatProgress(value=0.0, bar_style='info', description='Progress:', layout=Layout(height='25px', width='50%'),…"
      ]
     },
     "metadata": {},
     "output_type": "display_data"
    },
    {
     "name": "stdout",
     "output_type": "stream",
     "text": [
      "+-----------+--------------------+------------+--------------------+-------------+--------------------+\n",
      "|     entity|            instance|        name|               value| dataset_date|                 tag|\n",
      "+-----------+--------------------+------------+--------------------+-------------+--------------------+\n",
      "|     Column|        total_amount|         Sum|1.0274988166003421E8|1703334750003| nyc_yellow_oct_2023|\n",
      "|     Column|            VendorID|Distinctness|8.517198352773839E-7|1703334750003| nyc_yellow_oct_2023|\n",
      "|     Column|       trip_distance|        Mean|  3.9266949863509617|1703334750003| nyc_yellow_oct_2023|\n",
      "|    Dataset|                   *|        Size|           3522285.0|1703334750003| nyc_yellow_oct_2023|\n",
      "|     Column|        payment_type|  Compliance|  0.9560146325467701|1703334750003| nyc_yellow_oct_2023|\n",
      "|     Column|            VendorID|Completeness|                 1.0|1703334750003| nyc_yellow_oct_2023|\n",
      "|Mutlicolumn|     VendorID,gen_id|  Uniqueness|                 1.0|1703334750003| nyc_yellow_oct_2023|\n",
      "|     Column|               extra|     Maximum|               17.25|1703334750003| nyc_yellow_oct_2023|\n",
      "|     Column|fare_amount is no...|  Compliance|  0.9894670647037364|1703334750010|verify_nyc_yellow...|\n",
      "|     Column|              gen_id|  Uniqueness|                 1.0|1703334750010|verify_nyc_yellow...|\n",
      "|     Column|         Airport_fee|Completeness|  0.9560146325467701|1703334750010|verify_nyc_yellow...|\n",
      "|     Column|            VendorID|Completeness|                 1.0|1703334750010|verify_nyc_yellow...|\n",
      "|Mutlicolumn|     VendorID,gen_id|  Uniqueness|                 1.0|1703334750010|verify_nyc_yellow...|\n",
      "+-----------+--------------------+------------+--------------------+-------------+--------------------+"
     ]
    }
   ],
   "source": [
    "ny_yellow_analysis_result = nyc_yellow_repository.load() \\\n",
    "                                .before(ResultKey.current_milli_time()) \\\n",
    "                                .getSuccessMetricsAsDataFrame()\n",
    "\n",
    "ny_yellow_analysis_result.show()"
   ]
  },
  {
   "cell_type": "code",
   "execution_count": 43,
   "id": "a4f3ab1b-b0e9-4c6a-86ec-4df2e97eea43",
   "metadata": {
    "execution": {
     "iopub.execute_input": "2023-12-23T13:04:09.180688Z",
     "iopub.status.busy": "2023-12-23T13:04:09.180291Z",
     "iopub.status.idle": "2023-12-23T13:04:12.568660Z",
     "shell.execute_reply": "2023-12-23T13:04:12.567854Z",
     "shell.execute_reply.started": "2023-12-23T13:04:09.180638Z"
    }
   },
   "outputs": [
    {
     "data": {
      "application/vnd.jupyter.widget-view+json": {
       "model_id": "",
       "version_major": 2,
       "version_minor": 0
      },
      "text/plain": [
       "FloatProgress(value=0.0, bar_style='info', description='Progress:', layout=Layout(height='25px', width='50%'),…"
      ]
     },
     "metadata": {},
     "output_type": "display_data"
    },
    {
     "data": {
      "text/html": [
       "<style>.jp-OutputArea-child .jupyter-widgets.jp-OutputArea-output { overflow: auto; }</style>"
      ],
      "text/plain": [
       "<IPython.core.display.HTML object>"
      ]
     },
     "metadata": {},
     "output_type": "display_data"
    },
    {
     "data": {
      "application/vnd.jupyter.widget-view+json": {
       "model_id": "27d139381e0849c1a083f3d9a39b6b51",
       "version_major": 2,
       "version_minor": 0
      },
      "text/plain": [
       "VBox(children=(HBox(children=(HTML(value='Type:'), Button(description='Table', layout=Layout(width='70px'), st…"
      ]
     },
     "metadata": {},
     "output_type": "display_data"
    },
    {
     "data": {
      "application/vnd.jupyter.widget-view+json": {
       "model_id": "e3eb5f2a86d34267b8c51b56bfd445d1",
       "version_major": 2,
       "version_minor": 0
      },
      "text/plain": [
       "Output()"
      ]
     },
     "metadata": {},
     "output_type": "display_data"
    }
   ],
   "source": [
    "%%display\n",
    "ny_yellow_analysis_result"
   ]
  },
  {
   "cell_type": "code",
   "execution_count": 44,
   "id": "9bfe5775-2658-4349-9ff1-f804f0ccd8ec",
   "metadata": {
    "execution": {
     "iopub.execute_input": "2023-12-23T13:05:12.204443Z",
     "iopub.status.busy": "2023-12-23T13:05:12.204082Z",
     "iopub.status.idle": "2023-12-23T13:05:12.471998Z",
     "shell.execute_reply": "2023-12-23T13:05:12.471146Z",
     "shell.execute_reply.started": "2023-12-23T13:05:12.204411Z"
    }
   },
   "outputs": [
    {
     "data": {
      "application/vnd.jupyter.widget-view+json": {
       "model_id": "872b061e25ce411085231fbf1fcd638e",
       "version_major": 2,
       "version_minor": 0
      },
      "text/plain": [
       "VBox()"
      ]
     },
     "metadata": {},
     "output_type": "display_data"
    },
    {
     "data": {
      "application/vnd.jupyter.widget-view+json": {
       "model_id": "",
       "version_major": 2,
       "version_minor": 0
      },
      "text/plain": [
       "FloatProgress(value=0.0, bar_style='info', description='Progress:', layout=Layout(height='25px', width='50%'),…"
      ]
     },
     "metadata": {},
     "output_type": "display_data"
    },
    {
     "name": "stdout",
     "output_type": "stream",
     "text": [
      "+-----------+--------------------+------------+------------------+-------------+--------------------+\n",
      "|     entity|            instance|        name|             value| dataset_date|                 tag|\n",
      "+-----------+--------------------+------------+------------------+-------------+--------------------+\n",
      "|     Column|fare_amount is no...|  Compliance|0.9894670647037364|1703334750010|verify_nyc_yellow...|\n",
      "|     Column|              gen_id|  Uniqueness|               1.0|1703334750010|verify_nyc_yellow...|\n",
      "|     Column|         Airport_fee|Completeness|0.9560146325467701|1703334750010|verify_nyc_yellow...|\n",
      "|     Column|            VendorID|Completeness|               1.0|1703334750010|verify_nyc_yellow...|\n",
      "|Mutlicolumn|     VendorID,gen_id|  Uniqueness|               1.0|1703334750010|verify_nyc_yellow...|\n",
      "+-----------+--------------------+------------+------------------+-------------+--------------------+"
     ]
    }
   ],
   "source": [
    "ny_yellow_verification = nyc_yellow_repository.load().withTagValues(verify_key_tag).getSuccessMetricsAsDataFrame()\n",
    "ny_yellow_verification.show()"
   ]
  },
  {
   "cell_type": "code",
   "execution_count": 45,
   "id": "3afdf5b5-e496-4513-b1ea-9b50dc68e29b",
   "metadata": {
    "execution": {
     "iopub.execute_input": "2023-12-23T13:05:31.810021Z",
     "iopub.status.busy": "2023-12-23T13:05:31.809635Z",
     "iopub.status.idle": "2023-12-23T13:05:41.220394Z",
     "shell.execute_reply": "2023-12-23T13:05:41.219412Z",
     "shell.execute_reply.started": "2023-12-23T13:05:31.809956Z"
    }
   },
   "outputs": [
    {
     "data": {
      "application/vnd.jupyter.widget-view+json": {
       "model_id": "",
       "version_major": 2,
       "version_minor": 0
      },
      "text/plain": [
       "FloatProgress(value=0.0, bar_style='info', description='Progress:', layout=Layout(height='25px', width='50%'),…"
      ]
     },
     "metadata": {},
     "output_type": "display_data"
    },
    {
     "data": {
      "text/html": [
       "<style>.jp-OutputArea-child .jupyter-widgets.jp-OutputArea-output { overflow: auto; }</style>"
      ],
      "text/plain": [
       "<IPython.core.display.HTML object>"
      ]
     },
     "metadata": {},
     "output_type": "display_data"
    },
    {
     "data": {
      "application/vnd.jupyter.widget-view+json": {
       "model_id": "2c97461c8d5c499c863237838a7e79ce",
       "version_major": 2,
       "version_minor": 0
      },
      "text/plain": [
       "VBox(children=(HBox(children=(HTML(value='Type:'), Button(description='Table', layout=Layout(width='70px'), st…"
      ]
     },
     "metadata": {},
     "output_type": "display_data"
    },
    {
     "data": {
      "application/vnd.jupyter.widget-view+json": {
       "model_id": "521a69537cf047e6aff68d0aade53ebf",
       "version_major": 2,
       "version_minor": 0
      },
      "text/plain": [
       "Output()"
      ]
     },
     "metadata": {},
     "output_type": "display_data"
    }
   ],
   "source": [
    "%%display\n",
    "ny_yellow_verification"
   ]
  },
  {
   "cell_type": "code",
   "execution_count": 46,
   "id": "0a53d5f8-ee2f-4351-98cd-f540a5cba05c",
   "metadata": {
    "execution": {
     "iopub.execute_input": "2023-12-23T13:06:45.955242Z",
     "iopub.status.busy": "2023-12-23T13:06:45.954848Z",
     "iopub.status.idle": "2023-12-23T13:06:55.369632Z",
     "shell.execute_reply": "2023-12-23T13:06:55.368623Z",
     "shell.execute_reply.started": "2023-12-23T13:06:45.955210Z"
    }
   },
   "outputs": [
    {
     "data": {
      "application/vnd.jupyter.widget-view+json": {
       "model_id": "",
       "version_major": 2,
       "version_minor": 0
      },
      "text/plain": [
       "FloatProgress(value=0.0, bar_style='info', description='Progress:', layout=Layout(height='25px', width='50%'),…"
      ]
     },
     "metadata": {},
     "output_type": "display_data"
    },
    {
     "data": {
      "text/html": [
       "<style>.jp-OutputArea-child .jupyter-widgets.jp-OutputArea-output { overflow: auto; }</style>"
      ],
      "text/plain": [
       "<IPython.core.display.HTML object>"
      ]
     },
     "metadata": {},
     "output_type": "display_data"
    },
    {
     "data": {
      "application/vnd.jupyter.widget-view+json": {
       "model_id": "13890a3964b642c8839d37f10cd43cb3",
       "version_major": 2,
       "version_minor": 0
      },
      "text/plain": [
       "VBox(children=(HBox(children=(HTML(value='Type:'), Button(description='Table', layout=Layout(width='70px'), st…"
      ]
     },
     "metadata": {},
     "output_type": "display_data"
    },
    {
     "data": {
      "application/vnd.jupyter.widget-view+json": {
       "model_id": "c6bdca0dec8e4fdf99f7c503bbd3e859",
       "version_major": 2,
       "version_minor": 0
      },
      "text/plain": [
       "Output()"
      ]
     },
     "metadata": {},
     "output_type": "display_data"
    }
   ],
   "source": [
    "%%display\n",
    "checkResult_df"
   ]
  },
  {
   "cell_type": "markdown",
   "id": "2f0adfd4-85ad-47c8-9d3e-898625d40a3d",
   "metadata": {},
   "source": [
    "## Writing Verification Results into Athena Table"
   ]
  },
  {
   "cell_type": "code",
   "execution_count": 48,
   "id": "1a658f96-8761-40f8-9bb9-169b44133629",
   "metadata": {
    "execution": {
     "iopub.execute_input": "2023-12-23T13:10:31.699008Z",
     "iopub.status.busy": "2023-12-23T13:10:31.698639Z",
     "iopub.status.idle": "2023-12-23T13:10:42.998913Z",
     "shell.execute_reply": "2023-12-23T13:10:42.998062Z",
     "shell.execute_reply.started": "2023-12-23T13:10:31.698977Z"
    },
    "tags": []
   },
   "outputs": [
    {
     "data": {
      "application/vnd.jupyter.widget-view+json": {
       "model_id": "a974b27b45644a2ba9364aba8d80e892",
       "version_major": 2,
       "version_minor": 0
      },
      "text/plain": [
       "VBox()"
      ]
     },
     "metadata": {},
     "output_type": "display_data"
    },
    {
     "data": {
      "application/vnd.jupyter.widget-view+json": {
       "model_id": "",
       "version_major": 2,
       "version_minor": 0
      },
      "text/plain": [
       "FloatProgress(value=0.0, bar_style='info', description='Progress:', layout=Layout(height='25px', width='50%'),…"
      ]
     },
     "metadata": {},
     "output_type": "display_data"
    }
   ],
   "source": [
    "checkResult_df.write.insertInto(\"nyc_tlc.pydeequ_verification_results\")"
   ]
  },
  {
   "cell_type": "markdown",
   "id": "d41a3f10-1b02-4846-8aa4-0c5d87c82823",
   "metadata": {},
   "source": [
    "## Reading metrics file from S3"
   ]
  },
  {
   "cell_type": "code",
   "execution_count": null,
   "id": "0311cfff",
   "metadata": {
    "vscode": {
     "languageId": "plaintext"
    }
   },
   "outputs": [],
   "source": [
    "# metrics JSON file S3 Path\n",
    "metrics_s3_path = \"s3://{bucket_name}/nyc_tlc/pydeequ_metrics/ny_yellow_metrics.json\"\n",
    "\n",
    "repository_from_s3 = FileSystemMetricsRepository(spark, path = metrics_s3_path)\n",
    "\n",
    "metrics_df = repository_from_s3.load() \\\n",
    "                                .before(ResultKey.current_milli_time()) \\\n",
    "                                .getSuccessMetricsAsDataFrame()\n",
    "metrics_df.show()"
   ]
  }
 ],
 "metadata": {
  "kernelspec": {
   "display_name": "PySpark",
   "language": "python",
   "name": "pysparkkernel"
  },
  "language_info": {
   "codemirror_mode": {
    "name": "python",
    "version": 3
   },
   "file_extension": ".py",
   "mimetype": "text/x-python",
   "name": "pyspark",
   "pygments_lexer": "python3"
  }
 },
 "nbformat": 4,
 "nbformat_minor": 5
}
